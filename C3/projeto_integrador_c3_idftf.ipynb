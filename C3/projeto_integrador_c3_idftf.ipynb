{
  "nbformat": 4,
  "nbformat_minor": 0,
  "metadata": {
    "colab": {
      "provenance": []
    },
    "kernelspec": {
      "name": "python3",
      "display_name": "Python 3"
    },
    "language_info": {
      "name": "python"
    }
  },
  "cells": [
    {
      "cell_type": "code",
      "execution_count": null,
      "metadata": {
        "id": "ogyr9k8H2Jtx"
      },
      "outputs": [],
      "source": [
        "import pandas as pd\n",
        "import numpy as np\n",
        "from sklearn.ensemble import GradientBoostingClassifier\n",
        "from sklearn.ensemble import RandomForestClassifier\n",
        "from sklearn.metrics import recall_score\n",
        "from sklearn.metrics import precision_score\n",
        "from sklearn.metrics import f1_score\n",
        "from sklearn.model_selection import train_test_split"
      ]
    },
    {
      "cell_type": "code",
      "source": [
        "from google.colab import drive\n",
        "drive.mount('/content/drive')"
      ],
      "metadata": {
        "colab": {
          "base_uri": "https://localhost:8080/"
        },
        "id": "u4Lnc4E23xkk",
        "outputId": "02a35551-4586-41b4-9b2d-cddebc1fcad6"
      },
      "execution_count": null,
      "outputs": [
        {
          "output_type": "stream",
          "name": "stdout",
          "text": [
            "Mounted at /content/drive\n"
          ]
        }
      ]
    },
    {
      "cell_type": "code",
      "source": [
        "df_tf = pd.read_csv(\"/content/drive/MyDrive/projeto/tf_rotulado.csv\", sep=';')\n",
        "df_tw = pd.read_csv(\"/content/drive/MyDrive/projeto/twitts_rotulado.csv\", sep=';')\n",
        "#df_idf = pd.read_csv(\"/content/drive/MyDrive/projeto/idf_rotulado.csv\",sep=\";\")\n",
        "df_idftf = pd.read_csv(\"/content/drive/MyDrive/projeto/idftf_rotulado.csv\",sep=\";\")"
      ],
      "metadata": {
        "id": "hwurmbmq3-BW"
      },
      "execution_count": null,
      "outputs": []
    },
    {
      "cell_type": "code",
      "source": [
        "#df_idf[';Sto.;profissional!;??;strong;Ciro?;pequenininhas;semear;fakenews;curta?;eleitor/a;costo?;neta;vidas']"
      ],
      "metadata": {
        "colab": {
          "base_uri": "https://localhost:8080/"
        },
        "id": "8o5eUe02JkTn",
        "outputId": "326e1b0c-ab66-43ec-dd7b-99b7adfec1e4"
      },
      "execution_count": null,
      "outputs": [
        {
          "output_type": "execute_result",
          "data": {
            "text/plain": [
              "0       0;0.0;0.0;0.0;0.0;0.0;0.0;0.0;0.0;0.0;0.0;0.0;...\n",
              "1       1;0.0;0.0;0.0;0.0;0.0;0.0;0.0;0.0;0.0;0.0;0.0;...\n",
              "2       2;0.0;0.0;0.0;0.0;0.0;0.0;0.0;0.0;0.0;0.0;0.0;...\n",
              "3       3;0.0;0.0;0.0;0.0;0.0;0.0;0.0;0.0;0.0;0.0;0.0;...\n",
              "4       4;0.0;0.0;0.0;0.0;0.0;0.0;0.0;0.0;0.0;0.0;0.0;...\n",
              "                              ...                        \n",
              "3531    3531;0.0;0.0;0.0;0.0;0.0;0.0;0.0;0.0;0.0;0.0;0...\n",
              "3532    3532;0.0;0.0;0.0;0.0;0.0;0.0;0.0;0.0;0.0;0.0;0...\n",
              "3533    3533;0.0;0.0;0.0;0.0;0.0;0.0;0.0;0.0;0.0;0.0;0...\n",
              "3534    3534;0.0;0.0;0.0;0.0;0.0;0.0;0.0;0.0;0.0;0.0;0...\n",
              "3535    3535;0.0;0.0;0.0;0.0;0.0;0.0;0.0;0.0;0.0;0.0;0...\n",
              "Name: ;Sto.;profissional!;??;strong;Ciro?;pequenininhas;semear;fakenews;curta?;eleitor/a;costo?;neta;vidas, Length: 3536, dtype: object"
            ]
          },
          "metadata": {},
          "execution_count": 4
        }
      ]
    },
    {
      "cell_type": "code",
      "source": [
        "#df_idf2 = df_idf[';Sto.;profissional!;??;strong;Ciro?;pequenininhas;semear;fakenews;curta?;eleitor/a;costo?;neta;vidas'].str.split(';', expand=True)"
      ],
      "metadata": {
        "id": "fUOWXYstHL5h"
      },
      "execution_count": null,
      "outputs": []
    },
    {
      "cell_type": "code",
      "source": [
        "df_idftf2 = df_idftf[';Sto.;profissional!;??;strong;Ciro?;pequenininhas;semear;fakenews;curta?;eleitor/a;costo?;neta;vidas'].str.split(';', expand=True)"
      ],
      "metadata": {
        "id": "VmbtXg8KLMC_"
      },
      "execution_count": null,
      "outputs": []
    },
    {
      "cell_type": "code",
      "source": [
        "#df_idf2['classificacao'] = df_tf['classificacao'] "
      ],
      "metadata": {
        "id": "F1ohj9BiKMwG"
      },
      "execution_count": null,
      "outputs": []
    },
    {
      "cell_type": "code",
      "source": [
        "df_idftf2['classificacao'] = df_tf['classificacao']"
      ],
      "metadata": {
        "id": "j3A_F5U4PGCs"
      },
      "execution_count": null,
      "outputs": []
    },
    {
      "cell_type": "code",
      "source": [
        "#df_idf2.columns = list(df_tf.columns)"
      ],
      "metadata": {
        "id": "woBl9FjpSRnL"
      },
      "execution_count": null,
      "outputs": []
    },
    {
      "cell_type": "code",
      "source": [
        "df_idftf2.columns = list(df_tf.columns)"
      ],
      "metadata": {
        "id": "rFV8XckxSbVU"
      },
      "execution_count": null,
      "outputs": []
    },
    {
      "cell_type": "code",
      "source": [
        "df_tf_X = df_tf.drop(columns=['classificacao'])"
      ],
      "metadata": {
        "id": "j3ww2r9_EWhY"
      },
      "execution_count": null,
      "outputs": []
    },
    {
      "cell_type": "code",
      "source": [
        "df_tf_X_train, df_tf_X_test, df_tf_y_train, df_tf_y_test = train_test_split(df_tf_X, df_tf['classificacao'], test_size=0.33, random_state=42)"
      ],
      "metadata": {
        "id": "t2baJ6iYIt45"
      },
      "execution_count": null,
      "outputs": []
    },
    {
      "cell_type": "code",
      "source": [
        "df_idftf_xgb = GradientBoostingClassifier(n_estimators=100, learning_rate=1.0, max_depth=1, random_state=0).fit(df_idftf_X_train, df_idftf_y_train)"
      ],
      "metadata": {
        "id": "Cai4TMBOJSdh"
      },
      "execution_count": null,
      "outputs": []
    },
    {
      "cell_type": "code",
      "source": [
        "df_idftf_pred = df_idftf_xgb.predict(df_idftf_X_test)"
      ],
      "metadata": {
        "id": "A8djuMOsJ8bS"
      },
      "execution_count": null,
      "outputs": []
    },
    {
      "cell_type": "code",
      "source": [
        "y_true = df_idftf_y_test\n",
        "y_pred = df_idftf_pred\n",
        "\n",
        "print('recall_macro:' + str(recall_score(y_true, y_pred, average='macro')))\n",
        "\n",
        "print('recall_micro:' + str(recall_score(y_true, y_pred, average='micro')))\n",
        "\n",
        "print('precision_macro:' + str(precision_score(y_true, y_pred, average='macro')))\n",
        "\n",
        "print('precision_micro:' + str(precision_score(y_true, y_pred, average='micro')))\n",
        "\n",
        "print('precion_weighted:' + str(precision_score(y_true, y_pred, average='weighted')))\n",
        "\n",
        "print('f1_score_macro:' + str(f1_score(y_true, y_pred, average='macro')))\n",
        "\n",
        "print('f1_score_micro:' + str(f1_score(y_true, y_pred, average='micro')))\n",
        "\n",
        "print('f1_score_weighted:' + str(f1_score(y_true, y_pred, average='weighted')))"
      ],
      "metadata": {
        "colab": {
          "base_uri": "https://localhost:8080/"
        },
        "id": "3M_3dpwE_vsY",
        "outputId": "c175e3aa-5cb0-4d2e-c447-b0a0741a705b"
      },
      "execution_count": null,
      "outputs": [
        {
          "output_type": "stream",
          "name": "stdout",
          "text": [
            "recall_macro:0.7270980754839086\n",
            "recall_micro:0.790916880891174\n",
            "precision_macro:0.7348849051131171\n",
            "precision_micro:0.790916880891174\n",
            "precion_weighted:0.788628908342476\n",
            "f1_score_macro:0.730702872190904\n",
            "f1_score_micro:0.790916880891174\n",
            "f1_score_weighted:0.7896382103632542\n"
          ]
        }
      ]
    },
    {
      "cell_type": "code",
      "source": [
        "rf_idftf = RandomForestClassifier(max_depth=2, random_state=0).fit(df_idftf_X_train, df_idftf_y_train)\n",
        "df_idftf_rf_pred = rf_idftf.predict(df_idftf_X_test)"
      ],
      "metadata": {
        "id": "7CP6Y7Eg64e6"
      },
      "execution_count": null,
      "outputs": []
    },
    {
      "cell_type": "code",
      "source": [
        "y_true = df_idftf_y_test\n",
        "y_pred = df_idftf_rf_pred\n",
        "\n",
        "print('recall_macro:' + str(recall_score(y_true, y_pred, average='macro')))\n",
        "\n",
        "print('recall_micro:' + str(recall_score(y_true, y_pred, average='micro')))\n",
        "\n",
        "print('precision_macro:' + str(precision_score(y_true, y_pred, average='macro')))\n",
        "\n",
        "print('precision_micro:' + str(precision_score(y_true, y_pred, average='micro')))\n",
        "\n",
        "print('precion_weighted:' + str(precision_score(y_true, y_pred, average='weighted')))\n",
        "\n",
        "print('f1_score_macro:' + str(f1_score(y_true, y_pred, average='macro')))\n",
        "\n",
        "print('f1_score_micro:' + str(f1_score(y_true, y_pred, average='micro')))\n",
        "\n",
        "print('f1_score_weighted:' + str(f1_score(y_true, y_pred, average='weighted')))"
      ],
      "metadata": {
        "colab": {
          "base_uri": "https://localhost:8080/"
        },
        "id": "rP2RcI_2Gg3Z",
        "outputId": "12383a49-4509-4064-a7fc-de7e312e1fb0"
      },
      "execution_count": null,
      "outputs": [
        {
          "output_type": "stream",
          "name": "stdout",
          "text": [
            "recall_macro:0.3388316151202749\n",
            "recall_micro:0.4721508140531277\n",
            "precision_macro:0.48950244463618064\n",
            "precision_micro:0.4721508140531277\n",
            "precion_weighted:0.6335899591365366\n",
            "f1_score_macro:0.22350907217297547\n",
            "f1_score_micro:0.4721508140531277\n",
            "f1_score_weighted:0.31038039899623016\n"
          ]
        },
        {
          "output_type": "stream",
          "name": "stderr",
          "text": [
            "/usr/local/lib/python3.7/dist-packages/sklearn/metrics/_classification.py:1318: UndefinedMetricWarning: Precision is ill-defined and being set to 0.0 in labels with no predicted samples. Use `zero_division` parameter to control this behavior.\n",
            "  _warn_prf(average, modifier, msg_start, len(result))\n",
            "/usr/local/lib/python3.7/dist-packages/sklearn/metrics/_classification.py:1318: UndefinedMetricWarning: Precision is ill-defined and being set to 0.0 in labels with no predicted samples. Use `zero_division` parameter to control this behavior.\n",
            "  _warn_prf(average, modifier, msg_start, len(result))\n"
          ]
        }
      ]
    }
  ]
}