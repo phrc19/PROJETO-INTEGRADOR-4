{
  "cells": [
    {
      "cell_type": "code",
      "execution_count": null,
      "id": "db2a3330",
      "metadata": {
        "id": "db2a3330"
      },
      "outputs": [],
      "source": [
        "import pandas as pd\n",
        "import numpy as np\n",
        "from sklearn.cluster import KMeans\n",
        "from sklearn.feature_extraction.text import TfidfVectorizer"
      ]
    },
    {
      "cell_type": "code",
      "source": [
        "from google.colab import drive\n",
        "drive.mount('/content/drive')"
      ],
      "metadata": {
        "id": "9pb-UvKwuJ2o",
        "colab": {
          "base_uri": "https://localhost:8080/"
        },
        "outputId": "8f3d4573-f2b1-4532-ccbd-3fd04a677fa4"
      },
      "id": "9pb-UvKwuJ2o",
      "execution_count": null,
      "outputs": [
        {
          "output_type": "stream",
          "name": "stdout",
          "text": [
            "Mounted at /content/drive\n"
          ]
        }
      ]
    },
    {
      "cell_type": "code",
      "execution_count": null,
      "id": "92bda4e9",
      "metadata": {
        "id": "92bda4e9"
      },
      "outputs": [],
      "source": [
        "df_tf = pd.read_csv(\"/content/drive/MyDrive/projeto/tf.csv\")\n",
        "with open (\"/content/drive/MyDrive/projeto/tw2.csv\", encoding='UTF-8') as f:\n",
        "  tw = f.read()\n",
        "tw2 = tw.split(';')\n",
        "\n",
        "df_tw = pd.DataFrame(tw2)"
      ]
    },
    {
      "cell_type": "code",
      "source": [
        "with open (\"/content/drive/MyDrive/projeto/tweets3.txt\", encoding='UTF-8') as f:\n",
        "  tw = f.read()\n",
        "tw3 = tw.split(';')\n",
        "\n",
        "df_tw3 = pd.DataFrame(tw3)"
      ],
      "metadata": {
        "id": "aD5L-36bzmal"
      },
      "id": "aD5L-36bzmal",
      "execution_count": null,
      "outputs": []
    },
    {
      "cell_type": "code",
      "source": [
        "df_tw3_ajust = df_tw3.drop_duplicates()"
      ],
      "metadata": {
        "id": "uxvyQOwK0KEc"
      },
      "id": "uxvyQOwK0KEc",
      "execution_count": null,
      "outputs": []
    },
    {
      "cell_type": "code",
      "source": [
        "df_tw3_ajust2 = df_tw3_ajust.reset_index()\n",
        "df_tw3_ajust2 = df_tw3_ajust2.drop(columns=['index'], axis = 0)\n",
        "df_tw3_ajust2 = df_tw3_ajust2.rename(columns={0:'Tweets'})"
      ],
      "metadata": {
        "id": "oPBfsZLb0i0U"
      },
      "id": "oPBfsZLb0i0U",
      "execution_count": null,
      "outputs": []
    },
    {
      "cell_type": "code",
      "source": [
        "tamanho = []\n",
        "for linha in df_tw3_ajust2['Tweets']:\n",
        "    fras_sep = linha.split()\n",
        "    tam = len(fras_sep)\n",
        "    tamanho.append(tam)\n"
      ],
      "metadata": {
        "id": "xaQE5Io7_dhC"
      },
      "id": "xaQE5Io7_dhC",
      "execution_count": null,
      "outputs": []
    },
    {
      "cell_type": "code",
      "source": [
        "df_tw3_ajust2['tamanho'] = tamanho"
      ],
      "metadata": {
        "id": "74PELZ7lpies"
      },
      "id": "74PELZ7lpies",
      "execution_count": null,
      "outputs": []
    },
    {
      "cell_type": "code",
      "source": [
        "df_tw3_ajust3 = df_tw3_ajust2.loc[df_tw3_ajust2 ['tamanho'] > 3 ]\n",
        "df_tw3_ajust4 = df_tw3_ajust3.reset_index()\n",
        "df_tw3_ajust5 = df_tw3_ajust4.drop(columns=['tamanho','index'], axis = 0)"
      ],
      "metadata": {
        "id": "mFxbWavWBHeO"
      },
      "id": "mFxbWavWBHeO",
      "execution_count": null,
      "outputs": []
    },
    {
      "cell_type": "code",
      "source": [
        "df_tw3_ajust5"
      ],
      "metadata": {
        "colab": {
          "base_uri": "https://localhost:8080/",
          "height": 424
        },
        "id": "Azm0Fa2PBhoQ",
        "outputId": "b869655f-465d-4da2-8672-4798da092e9e"
      },
      "id": "Azm0Fa2PBhoQ",
      "execution_count": null,
      "outputs": [
        {
          "output_type": "execute_result",
          "data": {
            "text/plain": [
              "                                                 Tweets\n",
              "0     Essa notícia só me deu mais força para subir v...\n",
              "1     En la segunda vuelta golea a Bolsonaro, en la ...\n",
              "2     Normally I would just say this is desperate bu...\n",
              "3     #PTNuncaMais “Vencemos a mentira no 1° turno, ...\n",
              "4                   Nojento, é Bolsonaro segundo turno \n",
              "...                                                 ...\n",
              "3531  a burocracia para abrir a conta do nubank em o...\n",
              "3532  hoje eu realmente jurei que ia acordar cedo pa...\n",
              "3533  pois nesse eu precisarei de amigos cobaias par...\n",
              "3534  mulher faça isso não, simone é uma latifundiár...\n",
              "3535  todo mundo sabe que o gol fecha-caixao vai ser...\n",
              "\n",
              "[3536 rows x 1 columns]"
            ],
            "text/html": [
              "\n",
              "  <div id=\"df-fea55a4b-770e-4b61-9f08-d27e2110ebe2\">\n",
              "    <div class=\"colab-df-container\">\n",
              "      <div>\n",
              "<style scoped>\n",
              "    .dataframe tbody tr th:only-of-type {\n",
              "        vertical-align: middle;\n",
              "    }\n",
              "\n",
              "    .dataframe tbody tr th {\n",
              "        vertical-align: top;\n",
              "    }\n",
              "\n",
              "    .dataframe thead th {\n",
              "        text-align: right;\n",
              "    }\n",
              "</style>\n",
              "<table border=\"1\" class=\"dataframe\">\n",
              "  <thead>\n",
              "    <tr style=\"text-align: right;\">\n",
              "      <th></th>\n",
              "      <th>Tweets</th>\n",
              "    </tr>\n",
              "  </thead>\n",
              "  <tbody>\n",
              "    <tr>\n",
              "      <th>0</th>\n",
              "      <td>Essa notícia só me deu mais força para subir v...</td>\n",
              "    </tr>\n",
              "    <tr>\n",
              "      <th>1</th>\n",
              "      <td>En la segunda vuelta golea a Bolsonaro, en la ...</td>\n",
              "    </tr>\n",
              "    <tr>\n",
              "      <th>2</th>\n",
              "      <td>Normally I would just say this is desperate bu...</td>\n",
              "    </tr>\n",
              "    <tr>\n",
              "      <th>3</th>\n",
              "      <td>#PTNuncaMais “Vencemos a mentira no 1° turno, ...</td>\n",
              "    </tr>\n",
              "    <tr>\n",
              "      <th>4</th>\n",
              "      <td>Nojento, é Bolsonaro segundo turno</td>\n",
              "    </tr>\n",
              "    <tr>\n",
              "      <th>...</th>\n",
              "      <td>...</td>\n",
              "    </tr>\n",
              "    <tr>\n",
              "      <th>3531</th>\n",
              "      <td>a burocracia para abrir a conta do nubank em o...</td>\n",
              "    </tr>\n",
              "    <tr>\n",
              "      <th>3532</th>\n",
              "      <td>hoje eu realmente jurei que ia acordar cedo pa...</td>\n",
              "    </tr>\n",
              "    <tr>\n",
              "      <th>3533</th>\n",
              "      <td>pois nesse eu precisarei de amigos cobaias par...</td>\n",
              "    </tr>\n",
              "    <tr>\n",
              "      <th>3534</th>\n",
              "      <td>mulher faça isso não, simone é uma latifundiár...</td>\n",
              "    </tr>\n",
              "    <tr>\n",
              "      <th>3535</th>\n",
              "      <td>todo mundo sabe que o gol fecha-caixao vai ser...</td>\n",
              "    </tr>\n",
              "  </tbody>\n",
              "</table>\n",
              "<p>3536 rows × 1 columns</p>\n",
              "</div>\n",
              "      <button class=\"colab-df-convert\" onclick=\"convertToInteractive('df-fea55a4b-770e-4b61-9f08-d27e2110ebe2')\"\n",
              "              title=\"Convert this dataframe to an interactive table.\"\n",
              "              style=\"display:none;\">\n",
              "        \n",
              "  <svg xmlns=\"http://www.w3.org/2000/svg\" height=\"24px\"viewBox=\"0 0 24 24\"\n",
              "       width=\"24px\">\n",
              "    <path d=\"M0 0h24v24H0V0z\" fill=\"none\"/>\n",
              "    <path d=\"M18.56 5.44l.94 2.06.94-2.06 2.06-.94-2.06-.94-.94-2.06-.94 2.06-2.06.94zm-11 1L8.5 8.5l.94-2.06 2.06-.94-2.06-.94L8.5 2.5l-.94 2.06-2.06.94zm10 10l.94 2.06.94-2.06 2.06-.94-2.06-.94-.94-2.06-.94 2.06-2.06.94z\"/><path d=\"M17.41 7.96l-1.37-1.37c-.4-.4-.92-.59-1.43-.59-.52 0-1.04.2-1.43.59L10.3 9.45l-7.72 7.72c-.78.78-.78 2.05 0 2.83L4 21.41c.39.39.9.59 1.41.59.51 0 1.02-.2 1.41-.59l7.78-7.78 2.81-2.81c.8-.78.8-2.07 0-2.86zM5.41 20L4 18.59l7.72-7.72 1.47 1.35L5.41 20z\"/>\n",
              "  </svg>\n",
              "      </button>\n",
              "      \n",
              "  <style>\n",
              "    .colab-df-container {\n",
              "      display:flex;\n",
              "      flex-wrap:wrap;\n",
              "      gap: 12px;\n",
              "    }\n",
              "\n",
              "    .colab-df-convert {\n",
              "      background-color: #E8F0FE;\n",
              "      border: none;\n",
              "      border-radius: 50%;\n",
              "      cursor: pointer;\n",
              "      display: none;\n",
              "      fill: #1967D2;\n",
              "      height: 32px;\n",
              "      padding: 0 0 0 0;\n",
              "      width: 32px;\n",
              "    }\n",
              "\n",
              "    .colab-df-convert:hover {\n",
              "      background-color: #E2EBFA;\n",
              "      box-shadow: 0px 1px 2px rgba(60, 64, 67, 0.3), 0px 1px 3px 1px rgba(60, 64, 67, 0.15);\n",
              "      fill: #174EA6;\n",
              "    }\n",
              "\n",
              "    [theme=dark] .colab-df-convert {\n",
              "      background-color: #3B4455;\n",
              "      fill: #D2E3FC;\n",
              "    }\n",
              "\n",
              "    [theme=dark] .colab-df-convert:hover {\n",
              "      background-color: #434B5C;\n",
              "      box-shadow: 0px 1px 3px 1px rgba(0, 0, 0, 0.15);\n",
              "      filter: drop-shadow(0px 1px 2px rgba(0, 0, 0, 0.3));\n",
              "      fill: #FFFFFF;\n",
              "    }\n",
              "  </style>\n",
              "\n",
              "      <script>\n",
              "        const buttonEl =\n",
              "          document.querySelector('#df-fea55a4b-770e-4b61-9f08-d27e2110ebe2 button.colab-df-convert');\n",
              "        buttonEl.style.display =\n",
              "          google.colab.kernel.accessAllowed ? 'block' : 'none';\n",
              "\n",
              "        async function convertToInteractive(key) {\n",
              "          const element = document.querySelector('#df-fea55a4b-770e-4b61-9f08-d27e2110ebe2');\n",
              "          const dataTable =\n",
              "            await google.colab.kernel.invokeFunction('convertToInteractive',\n",
              "                                                     [key], {});\n",
              "          if (!dataTable) return;\n",
              "\n",
              "          const docLinkHtml = 'Like what you see? Visit the ' +\n",
              "            '<a target=\"_blank\" href=https://colab.research.google.com/notebooks/data_table.ipynb>data table notebook</a>'\n",
              "            + ' to learn more about interactive tables.';\n",
              "          element.innerHTML = '';\n",
              "          dataTable['output_type'] = 'display_data';\n",
              "          await google.colab.output.renderOutput(dataTable, element);\n",
              "          const docLink = document.createElement('div');\n",
              "          docLink.innerHTML = docLinkHtml;\n",
              "          element.appendChild(docLink);\n",
              "        }\n",
              "      </script>\n",
              "    </div>\n",
              "  </div>\n",
              "  "
            ]
          },
          "metadata": {},
          "execution_count": 13
        }
      ]
    },
    {
      "cell_type": "code",
      "source": [
        "def computeTF(wordDict, doc):\n",
        "    tfDict = {}\n",
        "    corpusCount = len(doc)\n",
        "    for word, count in wordDict.items():\n",
        "      if corpusCount == 0:\n",
        "        tfDict[word] = 0\n",
        "      else:\n",
        "        tfDict[word] = count/float(corpusCount)\n",
        "    return(tfDict)\n",
        "\n",
        "total = []\n",
        "listaContagemDicionario = []\n",
        "tfWordDict = []\n",
        "\n",
        "for linha in df_tw3_ajust5['Tweets']:\n",
        "    fras_sep = linha.split()\n",
        "    total = set(total).union(set(fras_sep))\n",
        "\n",
        "for linha in df_tw3_ajust5['Tweets']:\n",
        "    frase_separada = linha.split()\n",
        "    wordDict = dict.fromkeys(total, 0)\n",
        "    for word in frase_separada:\n",
        "        wordDict[word]+=1\n",
        "    tfWordDict.append(computeTF(wordDict, linha))\n",
        "    listaContagemDicionario.append(wordDict)\n",
        "\n",
        "df_tf = pd.DataFrame(tfWordDict)"
      ],
      "metadata": {
        "id": "FV-jdeu6vh2j"
      },
      "id": "FV-jdeu6vh2j",
      "execution_count": null,
      "outputs": []
    },
    {
      "cell_type": "markdown",
      "source": [
        "**Pesquisa de tweet**\n",
        "\n"
      ],
      "metadata": {
        "id": "9cFRnjkJueyi"
      },
      "id": "9cFRnjkJueyi"
    },
    {
      "cell_type": "markdown",
      "source": [
        "# Primeira Clusterização"
      ],
      "metadata": {
        "id": "i67L21tQvj8d"
      },
      "id": "i67L21tQvj8d"
    },
    {
      "cell_type": "markdown",
      "source": [
        "#Utilizamos como técnica reduzir o dataframe para 200 linhas para conseguirmos classificar de forma mais efetiva"
      ],
      "metadata": {
        "id": "mgP3ink_5SBd"
      },
      "id": "mgP3ink_5SBd"
    },
    {
      "cell_type": "code",
      "execution_count": null,
      "id": "ce9f052c",
      "metadata": {
        "id": "ce9f052c",
        "colab": {
          "base_uri": "https://localhost:8080/"
        },
        "outputId": "49129bdf-6105-434e-aece-c8aba7853c94"
      },
      "outputs": [
        {
          "output_type": "stream",
          "name": "stdout",
          "text": [
            "(617, 16960)\n",
            "(475, 16960)\n",
            "(2444, 16960)\n"
          ]
        }
      ],
      "source": [
        "kmeans = KMeans(n_clusters=3, random_state=0).fit(df_tf)\n",
        "label = kmeans.labels_\n",
        "df_tf['Cluster_1'] = label\n",
        "\n",
        "df_tf_0 = df_tf.loc[df_tf ['Cluster_1'] == 0 ]\n",
        "df_tf_1 = df_tf.loc[df_tf ['Cluster_1'] == 1 ]\n",
        "df_tf_2 = df_tf.loc[df_tf ['Cluster_1'] == 2 ]\n",
        "print(df_tf_0.shape)\n",
        "print(df_tf_1.shape)\n",
        "print(df_tf_2.shape)\n"
      ]
    },
    {
      "cell_type": "markdown",
      "source": [
        "##Segunda clusterização - 0"
      ],
      "metadata": {
        "id": "ra7cb8Ftcj40"
      },
      "id": "ra7cb8Ftcj40"
    },
    {
      "cell_type": "code",
      "source": [
        "kmeans_0 = KMeans(n_clusters=3, random_state=0).fit(df_tf_0)\n",
        "label_0 = kmeans_0.labels_\n",
        "\n",
        "df_tf_0['Cluster_2'] = label_0\n",
        "\n",
        "df_tf_0_0 = df_tf_0.loc[df_tf_0 ['Cluster_2'] == 0 ]\n",
        "df_tf_0_1 = df_tf_0.loc[df_tf_0 ['Cluster_2'] == 1 ]\n",
        "df_tf_0_2 = df_tf_0.loc[df_tf_0 ['Cluster_2'] == 2 ]\n",
        "print(df_tf_0_0.shape)\n",
        "print(df_tf_0_1.shape)\n",
        "print(df_tf_0_2.shape)"
      ],
      "metadata": {
        "id": "FhIFUvkH09PJ",
        "colab": {
          "base_uri": "https://localhost:8080/"
        },
        "outputId": "a9265931-4d01-4cdc-9e0c-b9e1f7c35904"
      },
      "id": "FhIFUvkH09PJ",
      "execution_count": null,
      "outputs": [
        {
          "output_type": "stream",
          "name": "stdout",
          "text": [
            "(33, 16961)\n",
            "(320, 16961)\n",
            "(264, 16961)\n"
          ]
        },
        {
          "output_type": "stream",
          "name": "stderr",
          "text": [
            "/usr/local/lib/python3.7/dist-packages/ipykernel_launcher.py:4: SettingWithCopyWarning: \n",
            "A value is trying to be set on a copy of a slice from a DataFrame.\n",
            "Try using .loc[row_indexer,col_indexer] = value instead\n",
            "\n",
            "See the caveats in the documentation: https://pandas.pydata.org/pandas-docs/stable/user_guide/indexing.html#returning-a-view-versus-a-copy\n",
            "  after removing the cwd from sys.path.\n"
          ]
        }
      ]
    },
    {
      "cell_type": "code",
      "source": [
        "\n",
        "kmeans_0_1 = KMeans(n_clusters=3, random_state=0).fit(df_tf_0_1)\n",
        "label_0_1 = kmeans_0_1.labels_\n",
        "\n",
        "df_tf_0_1['Cluster_3'] = label_0_1\n",
        "\n",
        "df_tf_0_1_0 = df_tf_0_1.loc[df_tf_0_1 ['Cluster_3'] == 0 ]\n",
        "df_tf_0_1_1 = df_tf_0_1.loc[df_tf_0_1 ['Cluster_3'] == 1 ]\n",
        "df_tf_0_1_2 = df_tf_0_1.loc[df_tf_0_1 ['Cluster_3'] == 2 ]\n",
        "print(df_tf_0_1_0.shape)\n",
        "print(df_tf_0_1_1.shape)\n",
        "print(df_tf_0_1_2.shape)"
      ],
      "metadata": {
        "colab": {
          "base_uri": "https://localhost:8080/"
        },
        "id": "9YMdPpT-isa0",
        "outputId": "4b9aed11-49bc-48f9-a4c8-65a43be0cf07"
      },
      "id": "9YMdPpT-isa0",
      "execution_count": null,
      "outputs": [
        {
          "output_type": "stream",
          "name": "stdout",
          "text": [
            "(202, 16962)\n",
            "(110, 16962)\n",
            "(8, 16962)\n"
          ]
        },
        {
          "output_type": "stream",
          "name": "stderr",
          "text": [
            "/usr/local/lib/python3.7/dist-packages/ipykernel_launcher.py:4: SettingWithCopyWarning: \n",
            "A value is trying to be set on a copy of a slice from a DataFrame.\n",
            "Try using .loc[row_indexer,col_indexer] = value instead\n",
            "\n",
            "See the caveats in the documentation: https://pandas.pydata.org/pandas-docs/stable/user_guide/indexing.html#returning-a-view-versus-a-copy\n",
            "  after removing the cwd from sys.path.\n"
          ]
        }
      ]
    },
    {
      "cell_type": "code",
      "source": [
        "kmeans_1 = KMeans(n_clusters=3, random_state=0).fit(df_tf_1)\n",
        "label_1 = kmeans_1.labels_\n",
        "\n",
        "df_tf_1['Cluster_2'] = label_1\n",
        "\n",
        "df_tf_1_0 = df_tf_1.loc[df_tf_1 ['Cluster_2'] == 0 ]\n",
        "df_tf_1_1 = df_tf_1.loc[df_tf_1 ['Cluster_2'] == 1 ]\n",
        "df_tf_1_2 = df_tf_1.loc[df_tf_1 ['Cluster_2'] == 2 ]\n",
        "print(df_tf_1_0.shape)\n",
        "print(df_tf_1_1.shape)\n",
        "print(df_tf_1_2.shape)"
      ],
      "metadata": {
        "id": "N8xoatkONbFD",
        "colab": {
          "base_uri": "https://localhost:8080/"
        },
        "outputId": "be20b610-fdaa-48aa-c827-c3107f43fda7"
      },
      "id": "N8xoatkONbFD",
      "execution_count": null,
      "outputs": [
        {
          "output_type": "stream",
          "name": "stdout",
          "text": [
            "(325, 16961)\n",
            "(52, 16961)\n",
            "(98, 16961)\n"
          ]
        },
        {
          "output_type": "stream",
          "name": "stderr",
          "text": [
            "/usr/local/lib/python3.7/dist-packages/ipykernel_launcher.py:4: SettingWithCopyWarning: \n",
            "A value is trying to be set on a copy of a slice from a DataFrame.\n",
            "Try using .loc[row_indexer,col_indexer] = value instead\n",
            "\n",
            "See the caveats in the documentation: https://pandas.pydata.org/pandas-docs/stable/user_guide/indexing.html#returning-a-view-versus-a-copy\n",
            "  after removing the cwd from sys.path.\n"
          ]
        }
      ]
    },
    {
      "cell_type": "markdown",
      "source": [
        "##Segunda clusterização - 1"
      ],
      "metadata": {
        "id": "KHMRYKZZdIfK"
      },
      "id": "KHMRYKZZdIfK"
    },
    {
      "cell_type": "code",
      "source": [
        "kmeans_1_0 = KMeans(n_clusters=3, random_state=0).fit(df_tf_1_0)\n",
        "label_1_0 = kmeans_1_0.labels_\n",
        "\n",
        "df_tf_1_0['Cluster_3'] = label_1_0\n",
        "\n",
        "df_tf_1_0_0 = df_tf_1_0.loc[df_tf_1_0 ['Cluster_3'] == 0 ]\n",
        "df_tf_1_0_1 = df_tf_1_0.loc[df_tf_1_0 ['Cluster_3'] == 1 ]\n",
        "df_tf_1_0_2 = df_tf_1_0.loc[df_tf_1_0 ['Cluster_3'] == 2 ]\n",
        "print(df_tf_1_0_0.shape)\n",
        "print(df_tf_1_0_1.shape)\n",
        "print(df_tf_1_0_2.shape)"
      ],
      "metadata": {
        "colab": {
          "base_uri": "https://localhost:8080/"
        },
        "id": "AQUpI6Oiok2G",
        "outputId": "52857fcb-49c0-4c63-a5ae-af520079d1fb"
      },
      "id": "AQUpI6Oiok2G",
      "execution_count": null,
      "outputs": [
        {
          "output_type": "stream",
          "name": "stdout",
          "text": [
            "(189, 16962)\n",
            "(109, 16962)\n",
            "(27, 16962)\n"
          ]
        },
        {
          "output_type": "stream",
          "name": "stderr",
          "text": [
            "/usr/local/lib/python3.7/dist-packages/ipykernel_launcher.py:4: SettingWithCopyWarning: \n",
            "A value is trying to be set on a copy of a slice from a DataFrame.\n",
            "Try using .loc[row_indexer,col_indexer] = value instead\n",
            "\n",
            "See the caveats in the documentation: https://pandas.pydata.org/pandas-docs/stable/user_guide/indexing.html#returning-a-view-versus-a-copy\n",
            "  after removing the cwd from sys.path.\n"
          ]
        }
      ]
    },
    {
      "cell_type": "code",
      "source": [
        "df_tf_2\n",
        "\n",
        "kmeans_2 = KMeans(n_clusters=3, random_state=0).fit(df_tf_2)\n",
        "label_2 = kmeans_2.labels_\n",
        "\n",
        "df_tf_2['Cluster_2'] = label_2\n",
        "\n",
        "df_tf_2_0 = df_tf_2.loc[df_tf_2 ['Cluster_2'] == 0 ]\n",
        "df_tf_2_1 = df_tf_2.loc[df_tf_2 ['Cluster_2'] == 1 ]\n",
        "df_tf_2_2 = df_tf_2.loc[df_tf_2 ['Cluster_2'] == 2 ]\n",
        "print(df_tf_2_0.shape)\n",
        "print(df_tf_2_1.shape)\n",
        "print(df_tf_2_2.shape)"
      ],
      "metadata": {
        "colab": {
          "base_uri": "https://localhost:8080/"
        },
        "id": "IJZ10ILnhL0W",
        "outputId": "e617fae4-f416-48df-b5a3-fe38c2aca55d"
      },
      "id": "IJZ10ILnhL0W",
      "execution_count": null,
      "outputs": [
        {
          "output_type": "stream",
          "name": "stdout",
          "text": [
            "(519, 16961)\n",
            "(1830, 16961)\n",
            "(95, 16961)\n"
          ]
        },
        {
          "output_type": "stream",
          "name": "stderr",
          "text": [
            "/usr/local/lib/python3.7/dist-packages/ipykernel_launcher.py:6: SettingWithCopyWarning: \n",
            "A value is trying to be set on a copy of a slice from a DataFrame.\n",
            "Try using .loc[row_indexer,col_indexer] = value instead\n",
            "\n",
            "See the caveats in the documentation: https://pandas.pydata.org/pandas-docs/stable/user_guide/indexing.html#returning-a-view-versus-a-copy\n",
            "  \n"
          ]
        }
      ]
    },
    {
      "cell_type": "code",
      "source": [
        "kmeans_2_1 = KMeans(n_clusters=3, random_state=0).fit(df_tf_2_1)\n",
        "label_2_1 = kmeans_2_1.labels_\n",
        "\n",
        "df_tf_2_1['Cluster_3'] = label_2_1\n",
        "\n",
        "df_tf_2_1_0 = df_tf_2_1.loc[df_tf_2_1 ['Cluster_3'] == 0 ]\n",
        "df_tf_2_1_1 = df_tf_2_1.loc[df_tf_2_1 ['Cluster_3'] == 1 ]\n",
        "df_tf_2_1_2 = df_tf_2_1.loc[df_tf_2_1 ['Cluster_3'] == 2 ]\n",
        "print(df_tf_2_1_0.shape)\n",
        "print(df_tf_2_1_1.shape)\n",
        "print(df_tf_2_1_2.shape)"
      ],
      "metadata": {
        "colab": {
          "base_uri": "https://localhost:8080/"
        },
        "id": "Sxd8JZNvxvqS",
        "outputId": "8ed3d1e0-ab9e-45a9-fa8c-e29d466ef2fa"
      },
      "id": "Sxd8JZNvxvqS",
      "execution_count": null,
      "outputs": [
        {
          "output_type": "stream",
          "name": "stdout",
          "text": [
            "(80, 16962)\n",
            "(876, 16962)\n",
            "(874, 16962)\n"
          ]
        },
        {
          "output_type": "stream",
          "name": "stderr",
          "text": [
            "/usr/local/lib/python3.7/dist-packages/ipykernel_launcher.py:4: SettingWithCopyWarning: \n",
            "A value is trying to be set on a copy of a slice from a DataFrame.\n",
            "Try using .loc[row_indexer,col_indexer] = value instead\n",
            "\n",
            "See the caveats in the documentation: https://pandas.pydata.org/pandas-docs/stable/user_guide/indexing.html#returning-a-view-versus-a-copy\n",
            "  after removing the cwd from sys.path.\n"
          ]
        }
      ]
    },
    {
      "cell_type": "code",
      "source": [
        "df_tf_2_1_2\n",
        "kmeans_2_1_2 = KMeans(n_clusters=3, random_state=0).fit(df_tf_2_1_2)\n",
        "label_2_1_2 = kmeans_2_1_2.labels_\n",
        "\n",
        "df_tf_2_1_2['Cluster_4'] = label_2_1_2\n",
        "\n",
        "df_tf_2_1_2_0 = df_tf_2_1_2.loc[df_tf_2_1_2 ['Cluster_4'] == 0 ]\n",
        "df_tf_2_1_2_1 = df_tf_2_1_2.loc[df_tf_2_1_2 ['Cluster_4'] == 1 ]\n",
        "df_tf_2_1_2_2 = df_tf_2_1_2.loc[df_tf_2_1_2 ['Cluster_4'] == 2 ]\n",
        "print(df_tf_2_1_2_0.shape)\n",
        "print(df_tf_2_1_2_1.shape)\n",
        "print(df_tf_2_1_2_2.shape)"
      ],
      "metadata": {
        "colab": {
          "base_uri": "https://localhost:8080/"
        },
        "id": "1SgaBUPryLl3",
        "outputId": "6e814e9f-1897-4d43-c882-4406ff673a69"
      },
      "id": "1SgaBUPryLl3",
      "execution_count": null,
      "outputs": [
        {
          "output_type": "stream",
          "name": "stdout",
          "text": [
            "(534, 16963)\n",
            "(211, 16963)\n",
            "(129, 16963)\n"
          ]
        },
        {
          "output_type": "stream",
          "name": "stderr",
          "text": [
            "/usr/local/lib/python3.7/dist-packages/ipykernel_launcher.py:5: SettingWithCopyWarning: \n",
            "A value is trying to be set on a copy of a slice from a DataFrame.\n",
            "Try using .loc[row_indexer,col_indexer] = value instead\n",
            "\n",
            "See the caveats in the documentation: https://pandas.pydata.org/pandas-docs/stable/user_guide/indexing.html#returning-a-view-versus-a-copy\n",
            "  \"\"\"\n"
          ]
        }
      ]
    },
    {
      "cell_type": "code",
      "source": [
        "df_tf_2_1_2_0\n",
        "kmeans_2_1_2_0 = KMeans(n_clusters=3, random_state=0).fit(df_tf_2_1_2_0)\n",
        "label_2_1_2_0 = kmeans_2_1_2_0.labels_\n",
        "\n",
        "df_tf_2_1_2_0['Cluster_5'] = label_2_1_2_0\n",
        "\n",
        "df_tf_2_1_2_0_0 = df_tf_2_1_2_0.loc[df_tf_2_1_2_0 ['Cluster_5'] == 0 ]\n",
        "df_tf_2_1_2_0_1 = df_tf_2_1_2_0.loc[df_tf_2_1_2_0 ['Cluster_5'] == 1 ]\n",
        "df_tf_2_1_2_0_2 = df_tf_2_1_2_0.loc[df_tf_2_1_2_0 ['Cluster_5'] == 2 ]\n",
        "print(df_tf_2_1_2_0_0.shape)\n",
        "print(df_tf_2_1_2_0_1.shape)\n",
        "print(df_tf_2_1_2_0_2.shape)"
      ],
      "metadata": {
        "colab": {
          "base_uri": "https://localhost:8080/"
        },
        "id": "8DDB45cimdg-",
        "outputId": "43c84bb7-f464-42af-ba8c-dc936a04b928"
      },
      "id": "8DDB45cimdg-",
      "execution_count": null,
      "outputs": [
        {
          "output_type": "stream",
          "name": "stdout",
          "text": [
            "(70, 16964)\n",
            "(197, 16964)\n",
            "(267, 16964)\n"
          ]
        },
        {
          "output_type": "stream",
          "name": "stderr",
          "text": [
            "/usr/local/lib/python3.7/dist-packages/ipykernel_launcher.py:5: SettingWithCopyWarning: \n",
            "A value is trying to be set on a copy of a slice from a DataFrame.\n",
            "Try using .loc[row_indexer,col_indexer] = value instead\n",
            "\n",
            "See the caveats in the documentation: https://pandas.pydata.org/pandas-docs/stable/user_guide/indexing.html#returning-a-view-versus-a-copy\n",
            "  \"\"\"\n"
          ]
        }
      ]
    },
    {
      "cell_type": "code",
      "source": [
        "df_tf_2_1_1\n",
        "kmeans_2_1_1 = KMeans(n_clusters=3, random_state=0).fit(df_tf_2_1_1)\n",
        "label_2_1_1 = kmeans_2_1_1.labels_\n",
        "\n",
        "df_tf_2_1_1['Cluster_4'] = label_2_1_1\n",
        "\n",
        "df_tf_2_1_1_0 = df_tf_2_1_1.loc[df_tf_2_1_1 ['Cluster_4'] == 0 ]\n",
        "df_tf_2_1_1_1 = df_tf_2_1_1.loc[df_tf_2_1_1 ['Cluster_4'] == 1 ]\n",
        "df_tf_2_1_1_2 = df_tf_2_1_1.loc[df_tf_2_1_1 ['Cluster_4'] == 2 ]\n",
        "print(df_tf_2_1_1_0.shape)\n",
        "print(df_tf_2_1_1_1.shape)\n",
        "print(df_tf_2_1_1_2.shape)"
      ],
      "metadata": {
        "colab": {
          "base_uri": "https://localhost:8080/"
        },
        "id": "Fhz-bxvjnKYm",
        "outputId": "9dbad51d-0bb7-432b-f01b-c02db9e4f8d9"
      },
      "id": "Fhz-bxvjnKYm",
      "execution_count": null,
      "outputs": [
        {
          "output_type": "stream",
          "name": "stdout",
          "text": [
            "(4, 16963)\n",
            "(14, 16963)\n",
            "(858, 16963)\n"
          ]
        },
        {
          "output_type": "stream",
          "name": "stderr",
          "text": [
            "/usr/local/lib/python3.7/dist-packages/ipykernel_launcher.py:5: SettingWithCopyWarning: \n",
            "A value is trying to be set on a copy of a slice from a DataFrame.\n",
            "Try using .loc[row_indexer,col_indexer] = value instead\n",
            "\n",
            "See the caveats in the documentation: https://pandas.pydata.org/pandas-docs/stable/user_guide/indexing.html#returning-a-view-versus-a-copy\n",
            "  \"\"\"\n"
          ]
        }
      ]
    },
    {
      "cell_type": "code",
      "source": [
        "df_tf_2_1_1_2\n",
        "kmeans_2_1_0_1 = KMeans(n_clusters=3, random_state=0).fit(df_tf_2_1_1_2)\n",
        "label_2_1_0_1 = kmeans_2_1_0_1.labels_\n",
        "\n",
        "df_tf_2_1_1_2['Cluster_5'] = label_2_1_0_1\n",
        "\n",
        "df_tf_2_1_1_2_0 = df_tf_2_1_1_2.loc[df_tf_2_1_1_2 ['Cluster_5'] == 0 ]\n",
        "df_tf_2_1_1_2_1 = df_tf_2_1_1_2.loc[df_tf_2_1_1_2 ['Cluster_5'] == 1 ]\n",
        "df_tf_2_1_1_2_2 = df_tf_2_1_1_2.loc[df_tf_2_1_1_2 ['Cluster_5'] == 2 ]\n",
        "print(df_tf_2_1_1_2_0.shape)\n",
        "print(df_tf_2_1_1_2_1.shape)\n",
        "print(df_tf_2_1_1_2_2.shape)"
      ],
      "metadata": {
        "colab": {
          "base_uri": "https://localhost:8080/"
        },
        "id": "NmfE5Q6Xn7MN",
        "outputId": "7c5940d7-e5d7-4d0d-8912-ef1cd18d9a9f"
      },
      "id": "NmfE5Q6Xn7MN",
      "execution_count": null,
      "outputs": [
        {
          "output_type": "stream",
          "name": "stdout",
          "text": [
            "(32, 16964)\n",
            "(808, 16964)\n",
            "(18, 16964)\n"
          ]
        },
        {
          "output_type": "stream",
          "name": "stderr",
          "text": [
            "/usr/local/lib/python3.7/dist-packages/ipykernel_launcher.py:5: SettingWithCopyWarning: \n",
            "A value is trying to be set on a copy of a slice from a DataFrame.\n",
            "Try using .loc[row_indexer,col_indexer] = value instead\n",
            "\n",
            "See the caveats in the documentation: https://pandas.pydata.org/pandas-docs/stable/user_guide/indexing.html#returning-a-view-versus-a-copy\n",
            "  \"\"\"\n"
          ]
        }
      ]
    },
    {
      "cell_type": "code",
      "source": [
        "df_tf_2_1_1_2_1\n",
        "kmeans_2_1_0_1_1 = KMeans(n_clusters=3, random_state=0).fit(df_tf_2_1_1_2_1)\n",
        "label_2_1_0_1_1 = kmeans_2_1_0_1_1.labels_\n",
        "\n",
        "df_tf_2_1_1_2_1['Cluster_6'] = label_2_1_0_1_1\n",
        "\n",
        "df_tf_2_1_1_2_1_0 = df_tf_2_1_1_2_1.loc[df_tf_2_1_1_2_1 ['Cluster_6'] == 0 ]\n",
        "df_tf_2_1_1_2_1_1 = df_tf_2_1_1_2_1.loc[df_tf_2_1_1_2_1 ['Cluster_6'] == 1 ]\n",
        "df_tf_2_1_1_2_1_2 = df_tf_2_1_1_2_1.loc[df_tf_2_1_1_2_1 ['Cluster_6'] == 2 ]\n",
        "print(df_tf_2_1_1_2_1_0.shape)\n",
        "print(df_tf_2_1_1_2_1_1.shape)\n",
        "print(df_tf_2_1_1_2_1_2.shape)"
      ],
      "metadata": {
        "colab": {
          "base_uri": "https://localhost:8080/"
        },
        "id": "q_hCzwkDoic0",
        "outputId": "ed612c3f-73c3-4132-93e6-ef9d70cf7e07"
      },
      "id": "q_hCzwkDoic0",
      "execution_count": null,
      "outputs": [
        {
          "output_type": "stream",
          "name": "stdout",
          "text": [
            "(709, 16965)\n",
            "(58, 16965)\n",
            "(41, 16965)\n"
          ]
        },
        {
          "output_type": "stream",
          "name": "stderr",
          "text": [
            "/usr/local/lib/python3.7/dist-packages/ipykernel_launcher.py:5: SettingWithCopyWarning: \n",
            "A value is trying to be set on a copy of a slice from a DataFrame.\n",
            "Try using .loc[row_indexer,col_indexer] = value instead\n",
            "\n",
            "See the caveats in the documentation: https://pandas.pydata.org/pandas-docs/stable/user_guide/indexing.html#returning-a-view-versus-a-copy\n",
            "  \"\"\"\n"
          ]
        }
      ]
    },
    {
      "cell_type": "code",
      "source": [
        "df_tf_2_1_1_2_1_0\n",
        "kmeans_2_1_0_1_1_0 = KMeans(n_clusters=3, random_state=0).fit(df_tf_2_1_1_2_1_0)\n",
        "label_2_1_0_1_1_0 = kmeans_2_1_0_1_1_0.labels_\n",
        "\n",
        "df_tf_2_1_1_2_1_0['Cluster_7'] = label_2_1_0_1_1_0\n",
        "\n",
        "df_tf_2_1_1_2_1_0_0 = df_tf_2_1_1_2_1_0.loc[df_tf_2_1_1_2_1_0 ['Cluster_7'] == 0 ]\n",
        "df_tf_2_1_1_2_1_0_1 = df_tf_2_1_1_2_1_0.loc[df_tf_2_1_1_2_1_0 ['Cluster_7'] == 1 ]\n",
        "df_tf_2_1_1_2_1_0_2 = df_tf_2_1_1_2_1_0.loc[df_tf_2_1_1_2_1_0 ['Cluster_7'] == 2 ]\n",
        "print(df_tf_2_1_1_2_1_0_0.shape)\n",
        "print(df_tf_2_1_1_2_1_0_1.shape)\n",
        "print(df_tf_2_1_1_2_1_0_2.shape)"
      ],
      "metadata": {
        "colab": {
          "base_uri": "https://localhost:8080/"
        },
        "id": "92MEhKpDo_ul",
        "outputId": "4a082241-7cb6-4f24-f109-0e27e43ca916"
      },
      "id": "92MEhKpDo_ul",
      "execution_count": null,
      "outputs": [
        {
          "output_type": "stream",
          "name": "stdout",
          "text": [
            "(58, 16966)\n",
            "(627, 16966)\n",
            "(24, 16966)\n"
          ]
        },
        {
          "output_type": "stream",
          "name": "stderr",
          "text": [
            "/usr/local/lib/python3.7/dist-packages/ipykernel_launcher.py:5: SettingWithCopyWarning: \n",
            "A value is trying to be set on a copy of a slice from a DataFrame.\n",
            "Try using .loc[row_indexer,col_indexer] = value instead\n",
            "\n",
            "See the caveats in the documentation: https://pandas.pydata.org/pandas-docs/stable/user_guide/indexing.html#returning-a-view-versus-a-copy\n",
            "  \"\"\"\n"
          ]
        }
      ]
    },
    {
      "cell_type": "code",
      "source": [
        "df_tf_2_1_1_2_1_0_1\n",
        "kmeans_2_1_0_1_1_0_1 = KMeans(n_clusters=3, random_state=0).fit(df_tf_2_1_1_2_1_0_1)\n",
        "label_2_1_0_1_1_0_1 = kmeans_2_1_0_1_1_0_1.labels_\n",
        "\n",
        "df_tf_2_1_1_2_1_0_1['Cluster_8'] = label_2_1_0_1_1_0_1\n",
        "\n",
        "df_tf_2_1_1_2_1_0_1_0 = df_tf_2_1_1_2_1_0_1.loc[df_tf_2_1_1_2_1_0_1 ['Cluster_8'] == 0 ]\n",
        "df_tf_2_1_1_2_1_0_1_1 = df_tf_2_1_1_2_1_0_1.loc[df_tf_2_1_1_2_1_0_1 ['Cluster_8'] == 1 ]\n",
        "df_tf_2_1_1_2_1_0_1_2 = df_tf_2_1_1_2_1_0_1.loc[df_tf_2_1_1_2_1_0_1 ['Cluster_8'] == 2 ]\n",
        "print(df_tf_2_1_1_2_1_0_1_0.shape)\n",
        "print(df_tf_2_1_1_2_1_0_1_1.shape)\n",
        "print(df_tf_2_1_1_2_1_0_1_2.shape)"
      ],
      "metadata": {
        "colab": {
          "base_uri": "https://localhost:8080/"
        },
        "id": "t3ZrXS7fpdVN",
        "outputId": "d71a7213-deca-4aa9-eada-4ad9c98287a5"
      },
      "id": "t3ZrXS7fpdVN",
      "execution_count": null,
      "outputs": [
        {
          "output_type": "stream",
          "name": "stdout",
          "text": [
            "(4, 16967)\n",
            "(3, 16967)\n",
            "(620, 16967)\n"
          ]
        },
        {
          "output_type": "stream",
          "name": "stderr",
          "text": [
            "/usr/local/lib/python3.7/dist-packages/ipykernel_launcher.py:5: SettingWithCopyWarning: \n",
            "A value is trying to be set on a copy of a slice from a DataFrame.\n",
            "Try using .loc[row_indexer,col_indexer] = value instead\n",
            "\n",
            "See the caveats in the documentation: https://pandas.pydata.org/pandas-docs/stable/user_guide/indexing.html#returning-a-view-versus-a-copy\n",
            "  \"\"\"\n"
          ]
        }
      ]
    },
    {
      "cell_type": "code",
      "source": [
        "df_tf_2_1_1_2_1_0_1_2\n",
        "kmeans_2_1_0_1_1_0_1_2 = KMeans(n_clusters=3, random_state=0).fit(df_tf_2_1_1_2_1_0_1_2)\n",
        "label_2_1_0_1_1_0_1_2 = kmeans_2_1_0_1_1_0_1_2.labels_\n",
        "\n",
        "df_tf_2_1_1_2_1_0_1_2['Cluster_9'] = label_2_1_0_1_1_0_1_2\n",
        "\n",
        "df_tf_2_1_1_2_1_0_1_2_0 = df_tf_2_1_1_2_1_0_1_2.loc[df_tf_2_1_1_2_1_0_1_2 ['Cluster_9'] == 0 ]\n",
        "df_tf_2_1_1_2_1_0_1_2_1 = df_tf_2_1_1_2_1_0_1_2.loc[df_tf_2_1_1_2_1_0_1_2 ['Cluster_9'] == 1 ]\n",
        "df_tf_2_1_1_2_1_0_1_2_2 = df_tf_2_1_1_2_1_0_1_2.loc[df_tf_2_1_1_2_1_0_1_2 ['Cluster_9'] == 2 ]\n",
        "print(df_tf_2_1_1_2_1_0_1_2_0.shape)\n",
        "print(df_tf_2_1_1_2_1_0_1_2_1.shape)\n",
        "print(df_tf_2_1_1_2_1_0_1_2_2.shape)"
      ],
      "metadata": {
        "colab": {
          "base_uri": "https://localhost:8080/"
        },
        "id": "m9tF-Tnmp0eV",
        "outputId": "81a3d18d-104a-404a-b77d-7e3498a3947f"
      },
      "id": "m9tF-Tnmp0eV",
      "execution_count": null,
      "outputs": [
        {
          "output_type": "stream",
          "name": "stdout",
          "text": [
            "(615, 16968)\n",
            "(4, 16968)\n",
            "(1, 16968)\n"
          ]
        },
        {
          "output_type": "stream",
          "name": "stderr",
          "text": [
            "/usr/local/lib/python3.7/dist-packages/ipykernel_launcher.py:5: SettingWithCopyWarning: \n",
            "A value is trying to be set on a copy of a slice from a DataFrame.\n",
            "Try using .loc[row_indexer,col_indexer] = value instead\n",
            "\n",
            "See the caveats in the documentation: https://pandas.pydata.org/pandas-docs/stable/user_guide/indexing.html#returning-a-view-versus-a-copy\n",
            "  \"\"\"\n"
          ]
        }
      ]
    },
    {
      "cell_type": "code",
      "source": [
        "df_tf_2_1_1_2_1_0_1_2_0\n",
        "kmeans_2_1_0_1_1_0_1_2_0 = KMeans(n_clusters=3, random_state=0).fit(df_tf_2_1_1_2_1_0_1_2_0)\n",
        "label_2_1_0_1_1_0_1_2_0 = kmeans_2_1_0_1_1_0_1_2_0.labels_\n",
        "\n",
        "df_tf_2_1_1_2_1_0_1_2_0['Cluster_10'] = label_2_1_0_1_1_0_1_2_0\n",
        "\n",
        "df_tf_2_1_1_2_1_0_1_2_0_0 = df_tf_2_1_1_2_1_0_1_2_0.loc[df_tf_2_1_1_2_1_0_1_2_0 ['Cluster_10'] == 0 ]\n",
        "df_tf_2_1_1_2_1_0_1_2_0_1 = df_tf_2_1_1_2_1_0_1_2_0.loc[df_tf_2_1_1_2_1_0_1_2_0 ['Cluster_10'] == 1 ]\n",
        "df_tf_2_1_1_2_1_0_1_2_0_2 = df_tf_2_1_1_2_1_0_1_2_0.loc[df_tf_2_1_1_2_1_0_1_2_0 ['Cluster_10'] == 2 ]\n",
        "print(df_tf_2_1_1_2_1_0_1_2_0_0.shape)\n",
        "print(df_tf_2_1_1_2_1_0_1_2_0_1.shape)\n",
        "print(df_tf_2_1_1_2_1_0_1_2_0_2.shape)"
      ],
      "metadata": {
        "colab": {
          "base_uri": "https://localhost:8080/"
        },
        "id": "tm9Wc5MDqRDU",
        "outputId": "c3928465-1579-4a40-e82a-1ed19b642ff8"
      },
      "id": "tm9Wc5MDqRDU",
      "execution_count": null,
      "outputs": [
        {
          "output_type": "stream",
          "name": "stdout",
          "text": [
            "(1, 16969)\n",
            "(587, 16969)\n",
            "(27, 16969)\n"
          ]
        },
        {
          "output_type": "stream",
          "name": "stderr",
          "text": [
            "/usr/local/lib/python3.7/dist-packages/ipykernel_launcher.py:5: SettingWithCopyWarning: \n",
            "A value is trying to be set on a copy of a slice from a DataFrame.\n",
            "Try using .loc[row_indexer,col_indexer] = value instead\n",
            "\n",
            "See the caveats in the documentation: https://pandas.pydata.org/pandas-docs/stable/user_guide/indexing.html#returning-a-view-versus-a-copy\n",
            "  \"\"\"\n"
          ]
        }
      ]
    },
    {
      "cell_type": "code",
      "source": [
        "df_tf_2_0\n",
        "\n",
        "kmeans_2_0 = KMeans(n_clusters=3, random_state=0).fit(df_tf_2_0)\n",
        "label_2_0 = kmeans_2_0.labels_\n",
        "\n",
        "df_tf_2_0['Cluster_3'] = label_2_0\n",
        "\n",
        "df_tf_2_0_0 = df_tf_2_0.loc[df_tf_2_0 ['Cluster_3'] == 0 ]\n",
        "df_tf_2_0_1 = df_tf_2_0.loc[df_tf_2_0 ['Cluster_3'] == 1 ]\n",
        "df_tf_2_0_2 = df_tf_2_0.loc[df_tf_2_0 ['Cluster_3'] == 2 ]\n",
        "print(df_tf_2_0_0.shape)\n",
        "print(df_tf_2_0_1.shape)\n",
        "print(df_tf_2_0_2.shape)"
      ],
      "metadata": {
        "colab": {
          "base_uri": "https://localhost:8080/"
        },
        "id": "bEjijHvprq-d",
        "outputId": "b5d29499-248b-4fff-857d-dff3eebc0aec"
      },
      "id": "bEjijHvprq-d",
      "execution_count": null,
      "outputs": [
        {
          "output_type": "stream",
          "name": "stdout",
          "text": [
            "(82, 16962)\n",
            "(393, 16962)\n",
            "(44, 16962)\n"
          ]
        },
        {
          "output_type": "stream",
          "name": "stderr",
          "text": [
            "/usr/local/lib/python3.7/dist-packages/ipykernel_launcher.py:6: SettingWithCopyWarning: \n",
            "A value is trying to be set on a copy of a slice from a DataFrame.\n",
            "Try using .loc[row_indexer,col_indexer] = value instead\n",
            "\n",
            "See the caveats in the documentation: https://pandas.pydata.org/pandas-docs/stable/user_guide/indexing.html#returning-a-view-versus-a-copy\n",
            "  \n"
          ]
        }
      ]
    },
    {
      "cell_type": "code",
      "source": [
        "df_tf_2_0_1\n",
        "kmeans_2_0_1 = KMeans(n_clusters=3, random_state=0).fit(df_tf_2_0_1)\n",
        "label_2_0_1 = kmeans_2_0_1.labels_\n",
        "\n",
        "df_tf_2_0_1['Cluster_4'] = label_2_0_1\n",
        "\n",
        "df_tf_2_0_1_0 = df_tf_2_0_1.loc[df_tf_2_0_1 ['Cluster_4'] == 0 ]\n",
        "df_tf_2_0_1_1 = df_tf_2_0_1.loc[df_tf_2_0_1 ['Cluster_4'] == 1 ]\n",
        "df_tf_2_0_1_2 = df_tf_2_0_1.loc[df_tf_2_0_1 ['Cluster_4'] == 2 ]\n",
        "print(df_tf_2_0_1_0.shape)\n",
        "print(df_tf_2_0_1_1.shape)\n",
        "print(df_tf_2_0_1_2.shape)"
      ],
      "metadata": {
        "colab": {
          "base_uri": "https://localhost:8080/"
        },
        "id": "QqGVpjowsFi3",
        "outputId": "e8f6f2b0-bd3d-4d1a-816d-11af9f2da851"
      },
      "id": "QqGVpjowsFi3",
      "execution_count": null,
      "outputs": [
        {
          "output_type": "stream",
          "name": "stdout",
          "text": [
            "(238, 16963)\n",
            "(47, 16963)\n",
            "(108, 16963)\n"
          ]
        },
        {
          "output_type": "stream",
          "name": "stderr",
          "text": [
            "/usr/local/lib/python3.7/dist-packages/ipykernel_launcher.py:5: SettingWithCopyWarning: \n",
            "A value is trying to be set on a copy of a slice from a DataFrame.\n",
            "Try using .loc[row_indexer,col_indexer] = value instead\n",
            "\n",
            "See the caveats in the documentation: https://pandas.pydata.org/pandas-docs/stable/user_guide/indexing.html#returning-a-view-versus-a-copy\n",
            "  \"\"\"\n"
          ]
        }
      ]
    },
    {
      "cell_type": "code",
      "source": [
        "df_tf_0_0['classificacao']= 'positivo'\n",
        "df_tf_0_2['classificacao']= 'neutro'\n",
        "df_tf_0_1_0['classificacao']= 'negativo'\n",
        "df_tf_0_1_1['classificacao']= 'negativo'\n",
        "df_tf_0_1_2['classificacao']= 'negativo'\n",
        "df_tf_1_1['classificacao']= 'positivo'\n",
        "df_tf_1_2['classificacao']= 'positivo'\n",
        "df_tf_1_0_0['classificacao']= 'negativo'\n",
        "df_tf_1_0_1['classificacao']= 'negativo'\n",
        "df_tf_1_0_2['classificacao']= 'positivo'\n",
        "df_tf_2_2['classificacao']= 'negativo'\n",
        "df_tf_2_1_0['classificacao']= 'negativo'\n",
        "df_tf_2_1_2_1['classificacao']= 'negativo'\n",
        "df_tf_2_1_2_2['classificacao']= 'negativo'\n",
        "df_tf_2_1_2_0_0['classificacao']= 'neutro'\n",
        "df_tf_2_1_2_0_1['classificacao']= 'positivo'\n",
        "df_tf_2_1_2_0_2['classificacao']= 'positivo'\n",
        "df_tf_2_1_1_0['classificacao']= 'negativo'\n",
        "df_tf_2_1_1_1['classificacao']= 'positivo'\n",
        "df_tf_2_1_1_2_0['classificacao']= 'neutro'\n",
        "df_tf_2_1_1_2_2['classificacao']= 'negativo'\n",
        "df_tf_2_1_1_2_1_1['classificacao']= 'neutro'\n",
        "df_tf_2_1_1_2_1_2['classificacao']= 'neutro'\n",
        "df_tf_2_1_1_2_1_0_0['classificacao']= 'negativo'\n",
        "df_tf_2_1_1_2_1_0_2['classificacao']= 'positivo'\n",
        "df_tf_2_1_1_2_1_0_1_0['classificacao']= 'negativo'\n",
        "df_tf_2_1_1_2_1_0_1_1['classificacao']= 'negativo'\n",
        "df_tf_2_1_1_2_1_0_1_2_1['classificacao']= 'negativo'\n",
        "df_tf_2_1_1_2_1_0_1_2_2['classificacao']= 'negativo'\n",
        "df_tf_2_1_1_2_1_0_1_2_0_0['classificacao']= 'negativo'\n",
        "df_tf_2_1_1_2_1_0_1_2_0_1['classificacao']= 'positivo'\n",
        "df_tf_2_1_1_2_1_0_1_2_0_2['classificacao']= 'positivo'\n",
        "df_tf_2_0_0['classificacao']= 'positivo'\n",
        "df_tf_2_0_2['classificacao']= 'negativo'\n",
        "df_tf_2_0_1_0['classificacao']= 'negativo'\n",
        "df_tf_2_0_1_1['classificacao']= 'negativo'\n",
        "df_tf_2_0_1_2['classificacao']= 'negativo'"
      ],
      "metadata": {
        "id": "H6RAUTIHmhdN"
      },
      "id": "H6RAUTIHmhdN",
      "execution_count": null,
      "outputs": []
    },
    {
      "cell_type": "code",
      "source": [
        "df_1 = df_tf_0_0.drop(columns=['Cluster_1', 'Cluster_2'], axis=0)\n",
        "df_2 = df_tf_0_2.drop(columns=['Cluster_1', 'Cluster_2'], axis=0)\n",
        "df_3 = df_tf_0_1_0.drop(columns=['Cluster_1', 'Cluster_2','Cluster_3'], axis=0)\n",
        "df_4 = df_tf_0_1_1.drop(columns=['Cluster_1', 'Cluster_2','Cluster_3'], axis=0)\n",
        "df_5 = df_tf_0_1_2.drop(columns=['Cluster_1', 'Cluster_2','Cluster_3'], axis=0)\n",
        "df_6 = df_tf_1_1.drop(columns=['Cluster_1', 'Cluster_2'], axis=0)\n",
        "df_7 = df_tf_1_2.drop(columns=['Cluster_1', 'Cluster_2'], axis=0)\n",
        "df_8 = df_tf_1_0_0.drop(columns=['Cluster_1', 'Cluster_2','Cluster_3'], axis=0)\n",
        "df_9 = df_tf_1_0_1.drop(columns=['Cluster_1', 'Cluster_2','Cluster_3'], axis=0)\n",
        "df_10 = df_tf_1_0_2.drop(columns=['Cluster_1', 'Cluster_2','Cluster_3'], axis=0)\n",
        "df_11 = df_tf_2_2.drop(columns=['Cluster_1', 'Cluster_2'], axis=0)\n",
        "df_12 = df_tf_2_1_0.drop(columns=['Cluster_1', 'Cluster_2','Cluster_3'], axis=0)\n",
        "df_13 = df_tf_2_1_2_1.drop(columns=['Cluster_1', 'Cluster_2','Cluster_3', 'Cluster_4'], axis=0)\n",
        "df_14 = df_tf_2_1_2_2.drop(columns=['Cluster_1', 'Cluster_2','Cluster_3', 'Cluster_4'], axis=0)\n",
        "df_15 = df_tf_2_1_2_0_0.drop(columns=['Cluster_1', 'Cluster_2','Cluster_3', 'Cluster_4', 'Cluster_5'], axis=0)\n",
        "df_16 = df_tf_2_1_2_0_1.drop(columns=['Cluster_1', 'Cluster_2','Cluster_3', 'Cluster_4', 'Cluster_5'], axis=0)\n",
        "df_17 = df_tf_2_1_2_0_2.drop(columns=['Cluster_1', 'Cluster_2','Cluster_3', 'Cluster_4', 'Cluster_5'], axis=0)\n",
        "df_18 = df_tf_2_1_1_0.drop(columns=['Cluster_1', 'Cluster_2','Cluster_3', 'Cluster_4'], axis=0)\n",
        "df_19 = df_tf_2_1_1_1.drop(columns=['Cluster_1', 'Cluster_2','Cluster_3', 'Cluster_4'], axis=0)\n",
        "df_20 = df_tf_2_1_1_2_0.drop(columns=['Cluster_1', 'Cluster_2','Cluster_3', 'Cluster_4', 'Cluster_5'], axis=0)\n",
        "df_21 = df_tf_2_1_1_2_2.drop(columns=['Cluster_1', 'Cluster_2','Cluster_3', 'Cluster_4', 'Cluster_5'], axis=0)\n",
        "df_22 = df_tf_2_1_1_2_1_1.drop(columns=['Cluster_1', 'Cluster_2','Cluster_3', 'Cluster_4', 'Cluster_5','Cluster_6'], axis=0)\n",
        "df_23 = df_tf_2_1_1_2_1_2.drop(columns=['Cluster_1', 'Cluster_2','Cluster_3', 'Cluster_4', 'Cluster_5','Cluster_6'], axis=0)\n",
        "df_24 = df_tf_2_1_1_2_1_0_0.drop(columns=['Cluster_1', 'Cluster_2','Cluster_3', 'Cluster_4', 'Cluster_5','Cluster_6', 'Cluster_7'], axis=0)\n",
        "df_25 = df_tf_2_1_1_2_1_0_2.drop(columns=['Cluster_1', 'Cluster_2','Cluster_3', 'Cluster_4', 'Cluster_5','Cluster_6', 'Cluster_7'], axis=0)\n",
        "df_26 = df_tf_2_1_1_2_1_0_1_0.drop(columns=['Cluster_1', 'Cluster_2','Cluster_3', 'Cluster_4', 'Cluster_5','Cluster_6', 'Cluster_7', 'Cluster_8'], axis=0)\n",
        "df_27 = df_tf_2_1_1_2_1_0_1_1.drop(columns=['Cluster_1', 'Cluster_2','Cluster_3', 'Cluster_4', 'Cluster_5','Cluster_6', 'Cluster_7', 'Cluster_8'], axis=0)\n",
        "df_28 = df_tf_2_1_1_2_1_0_1_2_1.drop(columns=['Cluster_1', 'Cluster_2','Cluster_3', 'Cluster_4', 'Cluster_5','Cluster_6', 'Cluster_7', 'Cluster_8', 'Cluster_9'], axis=0)\n",
        "df_29 = df_tf_2_1_1_2_1_0_1_2_2.drop(columns=['Cluster_1', 'Cluster_2','Cluster_3', 'Cluster_4', 'Cluster_5','Cluster_6', 'Cluster_7', 'Cluster_8', 'Cluster_9'], axis=0)\n",
        "df_30 = df_tf_2_1_1_2_1_0_1_2_0_0.drop(columns=['Cluster_1', 'Cluster_2','Cluster_3', 'Cluster_4', 'Cluster_5','Cluster_6', 'Cluster_7', 'Cluster_8', 'Cluster_9', 'Cluster_10'], axis=0)\n",
        "df_31 = df_tf_2_1_1_2_1_0_1_2_0_1.drop(columns=['Cluster_1', 'Cluster_2','Cluster_3', 'Cluster_4', 'Cluster_5','Cluster_6', 'Cluster_7', 'Cluster_8', 'Cluster_9', 'Cluster_10'], axis=0)\n",
        "df_32 = df_tf_2_1_1_2_1_0_1_2_0_2.drop(columns=['Cluster_1', 'Cluster_2','Cluster_3', 'Cluster_4', 'Cluster_5','Cluster_6', 'Cluster_7', 'Cluster_8', 'Cluster_9', 'Cluster_10'], axis=0)\n",
        "df_33 = df_tf_2_0_0.drop(columns=['Cluster_1', 'Cluster_2','Cluster_3'], axis=0)\n",
        "df_34 = df_tf_2_0_2.drop(columns=['Cluster_1', 'Cluster_2','Cluster_3'], axis=0)\n",
        "df_35 = df_tf_2_0_1_0.drop(columns=['Cluster_1', 'Cluster_2','Cluster_3', 'Cluster_4'], axis=0)\n",
        "df_36 = df_tf_2_0_1_1.drop(columns=['Cluster_1', 'Cluster_2','Cluster_3', 'Cluster_4'], axis=0)\n",
        "df_37 = df_tf_2_0_1_2.drop(columns=['Cluster_1', 'Cluster_2','Cluster_3', 'Cluster_4'], axis=0)"
      ],
      "metadata": {
        "id": "vDhqlWcPOf4E"
      },
      "id": "vDhqlWcPOf4E",
      "execution_count": null,
      "outputs": []
    },
    {
      "cell_type": "code",
      "source": [
        "df_final = pd.concat([df_1,df_2,df_3,df_4,df_5,df_6,df_7,df_8,df_9,df_10,df_11,df_12,df_13,df_14,df_15,df_16\n",
        "                      ,df_17,df_18,df_19,df_20,df_21,df_22,df_23,df_24,df_25,df_26,df_27,df_28,df_29,df_30\n",
        "                      ,df_31,df_32,df_33,df_34,df_35,df_36,df_37])"
      ],
      "metadata": {
        "id": "-aPcNyPgVXrz"
      },
      "id": "-aPcNyPgVXrz",
      "execution_count": null,
      "outputs": []
    },
    {
      "cell_type": "code",
      "source": [
        "df_tw3_ajust5['classificacao'] = df_final['classificacao']"
      ],
      "metadata": {
        "id": "PwvgQmZ1bUEx"
      },
      "id": "PwvgQmZ1bUEx",
      "execution_count": null,
      "outputs": []
    },
    {
      "cell_type": "code",
      "source": [
        "df_tw3_ajust5.to_csv(sep=';')"
      ],
      "metadata": {
        "id": "UDRjyUvNbmUe"
      },
      "id": "UDRjyUvNbmUe",
      "execution_count": null,
      "outputs": []
    },
    {
      "cell_type": "code",
      "source": [
        "df_final"
      ],
      "metadata": {
        "id": "Ca60Iq1KkANy"
      },
      "id": "Ca60Iq1KkANy",
      "execution_count": null,
      "outputs": []
    },
    {
      "cell_type": "markdown",
      "source": [
        "#Criação de um csv com as primeiras mil colunas para entrega ao professor, o colab não teve memória suficiente para criar o CSV com 36k de colunas.\n"
      ],
      "metadata": {
        "id": "jRKvwHpV4GUu"
      },
      "id": "jRKvwHpV4GUu"
    },
    {
      "cell_type": "code",
      "source": [
        "df_final_2 = df_final.iloc[:,15960:16960]\n",
        "df_final_2"
      ],
      "metadata": {
        "id": "cOFX8Y8-llWu",
        "colab": {
          "base_uri": "https://localhost:8080/",
          "height": 505
        },
        "outputId": "c4fa58e2-0109-4762-ad68-7ecd50f94b36"
      },
      "id": "cOFX8Y8-llWu",
      "execution_count": null,
      "outputs": [
        {
          "output_type": "execute_result",
          "data": {
            "text/plain": [
              "      já)  fiquei  incriminar  PL.  conseguiram  ANVISA  Diaz  nordeste.  \\\n",
              "249   0.0     0.0         0.0  0.0          0.0     0.0   0.0        0.0   \n",
              "280   0.0     0.0         0.0  0.0          0.0     0.0   0.0        0.0   \n",
              "408   0.0     0.0         0.0  0.0          0.0     0.0   0.0        0.0   \n",
              "558   0.0     0.0         0.0  0.0          0.0     0.0   0.0        0.0   \n",
              "588   0.0     0.0         0.0  0.0          0.0     0.0   0.0        0.0   \n",
              "...   ...     ...         ...  ...          ...     ...   ...        ...   \n",
              "3137  0.0     0.0         0.0  0.0          0.0     0.0   0.0        0.0   \n",
              "3142  0.0     0.0         0.0  0.0          0.0     0.0   0.0        0.0   \n",
              "3235  0.0     0.0         0.0  0.0          0.0     0.0   0.0        0.0   \n",
              "3271  0.0     0.0         0.0  0.0          0.0     0.0   0.0        0.0   \n",
              "3403  0.0     0.0         0.0  0.0          0.0     0.0   0.0        0.0   \n",
              "\n",
              "      destituir  ruas…  ...  CONCIENCIA  idiotas,  humildade  carne  fans  \\\n",
              "249         0.0    0.0  ...         0.0       0.0        0.0    0.0   0.0   \n",
              "280         0.0    0.0  ...         0.0       0.0        0.0    0.0   0.0   \n",
              "408         0.0    0.0  ...         0.0       0.0        0.0    0.0   0.0   \n",
              "558         0.0    0.0  ...         0.0       0.0        0.0    0.0   0.0   \n",
              "588         0.0    0.0  ...         0.0       0.0        0.0    0.0   0.0   \n",
              "...         ...    ...  ...         ...       ...        ...    ...   ...   \n",
              "3137        0.0    0.0  ...         0.0       0.0        0.0    0.0   0.0   \n",
              "3142        0.0    0.0  ...         0.0       0.0        0.0    0.0   0.0   \n",
              "3235        0.0    0.0  ...         0.0       0.0        0.0    0.0   0.0   \n",
              "3271        0.0    0.0  ...         0.0       0.0        0.0    0.0   0.0   \n",
              "3403        0.0    0.0  ...         0.0       0.0        0.0    0.0   0.0   \n",
              "\n",
              "      Mimimi  xigamento  mantê-los  bora  classificacao  \n",
              "249      0.0        0.0        0.0   0.0       positivo  \n",
              "280      0.0        0.0        0.0   0.0       positivo  \n",
              "408      0.0        0.0        0.0   0.0       positivo  \n",
              "558      0.0        0.0        0.0   0.0       positivo  \n",
              "588      0.0        0.0        0.0   0.0       positivo  \n",
              "...      ...        ...        ...   ...            ...  \n",
              "3137     0.0        0.0        0.0   0.0       negativo  \n",
              "3142     0.0        0.0        0.0   0.0       negativo  \n",
              "3235     0.0        0.0        0.0   0.0       negativo  \n",
              "3271     0.0        0.0        0.0   0.0       negativo  \n",
              "3403     0.0        0.0        0.0   0.0       negativo  \n",
              "\n",
              "[3536 rows x 1000 columns]"
            ],
            "text/html": [
              "\n",
              "  <div id=\"df-78aacbc0-1a8e-4e0d-ae94-e0ee568a632a\">\n",
              "    <div class=\"colab-df-container\">\n",
              "      <div>\n",
              "<style scoped>\n",
              "    .dataframe tbody tr th:only-of-type {\n",
              "        vertical-align: middle;\n",
              "    }\n",
              "\n",
              "    .dataframe tbody tr th {\n",
              "        vertical-align: top;\n",
              "    }\n",
              "\n",
              "    .dataframe thead th {\n",
              "        text-align: right;\n",
              "    }\n",
              "</style>\n",
              "<table border=\"1\" class=\"dataframe\">\n",
              "  <thead>\n",
              "    <tr style=\"text-align: right;\">\n",
              "      <th></th>\n",
              "      <th>já)</th>\n",
              "      <th>fiquei</th>\n",
              "      <th>incriminar</th>\n",
              "      <th>PL.</th>\n",
              "      <th>conseguiram</th>\n",
              "      <th>ANVISA</th>\n",
              "      <th>Diaz</th>\n",
              "      <th>nordeste.</th>\n",
              "      <th>destituir</th>\n",
              "      <th>ruas…</th>\n",
              "      <th>...</th>\n",
              "      <th>CONCIENCIA</th>\n",
              "      <th>idiotas,</th>\n",
              "      <th>humildade</th>\n",
              "      <th>carne</th>\n",
              "      <th>fans</th>\n",
              "      <th>Mimimi</th>\n",
              "      <th>xigamento</th>\n",
              "      <th>mantê-los</th>\n",
              "      <th>bora</th>\n",
              "      <th>classificacao</th>\n",
              "    </tr>\n",
              "  </thead>\n",
              "  <tbody>\n",
              "    <tr>\n",
              "      <th>249</th>\n",
              "      <td>0.0</td>\n",
              "      <td>0.0</td>\n",
              "      <td>0.0</td>\n",
              "      <td>0.0</td>\n",
              "      <td>0.0</td>\n",
              "      <td>0.0</td>\n",
              "      <td>0.0</td>\n",
              "      <td>0.0</td>\n",
              "      <td>0.0</td>\n",
              "      <td>0.0</td>\n",
              "      <td>...</td>\n",
              "      <td>0.0</td>\n",
              "      <td>0.0</td>\n",
              "      <td>0.0</td>\n",
              "      <td>0.0</td>\n",
              "      <td>0.0</td>\n",
              "      <td>0.0</td>\n",
              "      <td>0.0</td>\n",
              "      <td>0.0</td>\n",
              "      <td>0.0</td>\n",
              "      <td>positivo</td>\n",
              "    </tr>\n",
              "    <tr>\n",
              "      <th>280</th>\n",
              "      <td>0.0</td>\n",
              "      <td>0.0</td>\n",
              "      <td>0.0</td>\n",
              "      <td>0.0</td>\n",
              "      <td>0.0</td>\n",
              "      <td>0.0</td>\n",
              "      <td>0.0</td>\n",
              "      <td>0.0</td>\n",
              "      <td>0.0</td>\n",
              "      <td>0.0</td>\n",
              "      <td>...</td>\n",
              "      <td>0.0</td>\n",
              "      <td>0.0</td>\n",
              "      <td>0.0</td>\n",
              "      <td>0.0</td>\n",
              "      <td>0.0</td>\n",
              "      <td>0.0</td>\n",
              "      <td>0.0</td>\n",
              "      <td>0.0</td>\n",
              "      <td>0.0</td>\n",
              "      <td>positivo</td>\n",
              "    </tr>\n",
              "    <tr>\n",
              "      <th>408</th>\n",
              "      <td>0.0</td>\n",
              "      <td>0.0</td>\n",
              "      <td>0.0</td>\n",
              "      <td>0.0</td>\n",
              "      <td>0.0</td>\n",
              "      <td>0.0</td>\n",
              "      <td>0.0</td>\n",
              "      <td>0.0</td>\n",
              "      <td>0.0</td>\n",
              "      <td>0.0</td>\n",
              "      <td>...</td>\n",
              "      <td>0.0</td>\n",
              "      <td>0.0</td>\n",
              "      <td>0.0</td>\n",
              "      <td>0.0</td>\n",
              "      <td>0.0</td>\n",
              "      <td>0.0</td>\n",
              "      <td>0.0</td>\n",
              "      <td>0.0</td>\n",
              "      <td>0.0</td>\n",
              "      <td>positivo</td>\n",
              "    </tr>\n",
              "    <tr>\n",
              "      <th>558</th>\n",
              "      <td>0.0</td>\n",
              "      <td>0.0</td>\n",
              "      <td>0.0</td>\n",
              "      <td>0.0</td>\n",
              "      <td>0.0</td>\n",
              "      <td>0.0</td>\n",
              "      <td>0.0</td>\n",
              "      <td>0.0</td>\n",
              "      <td>0.0</td>\n",
              "      <td>0.0</td>\n",
              "      <td>...</td>\n",
              "      <td>0.0</td>\n",
              "      <td>0.0</td>\n",
              "      <td>0.0</td>\n",
              "      <td>0.0</td>\n",
              "      <td>0.0</td>\n",
              "      <td>0.0</td>\n",
              "      <td>0.0</td>\n",
              "      <td>0.0</td>\n",
              "      <td>0.0</td>\n",
              "      <td>positivo</td>\n",
              "    </tr>\n",
              "    <tr>\n",
              "      <th>588</th>\n",
              "      <td>0.0</td>\n",
              "      <td>0.0</td>\n",
              "      <td>0.0</td>\n",
              "      <td>0.0</td>\n",
              "      <td>0.0</td>\n",
              "      <td>0.0</td>\n",
              "      <td>0.0</td>\n",
              "      <td>0.0</td>\n",
              "      <td>0.0</td>\n",
              "      <td>0.0</td>\n",
              "      <td>...</td>\n",
              "      <td>0.0</td>\n",
              "      <td>0.0</td>\n",
              "      <td>0.0</td>\n",
              "      <td>0.0</td>\n",
              "      <td>0.0</td>\n",
              "      <td>0.0</td>\n",
              "      <td>0.0</td>\n",
              "      <td>0.0</td>\n",
              "      <td>0.0</td>\n",
              "      <td>positivo</td>\n",
              "    </tr>\n",
              "    <tr>\n",
              "      <th>...</th>\n",
              "      <td>...</td>\n",
              "      <td>...</td>\n",
              "      <td>...</td>\n",
              "      <td>...</td>\n",
              "      <td>...</td>\n",
              "      <td>...</td>\n",
              "      <td>...</td>\n",
              "      <td>...</td>\n",
              "      <td>...</td>\n",
              "      <td>...</td>\n",
              "      <td>...</td>\n",
              "      <td>...</td>\n",
              "      <td>...</td>\n",
              "      <td>...</td>\n",
              "      <td>...</td>\n",
              "      <td>...</td>\n",
              "      <td>...</td>\n",
              "      <td>...</td>\n",
              "      <td>...</td>\n",
              "      <td>...</td>\n",
              "      <td>...</td>\n",
              "    </tr>\n",
              "    <tr>\n",
              "      <th>3137</th>\n",
              "      <td>0.0</td>\n",
              "      <td>0.0</td>\n",
              "      <td>0.0</td>\n",
              "      <td>0.0</td>\n",
              "      <td>0.0</td>\n",
              "      <td>0.0</td>\n",
              "      <td>0.0</td>\n",
              "      <td>0.0</td>\n",
              "      <td>0.0</td>\n",
              "      <td>0.0</td>\n",
              "      <td>...</td>\n",
              "      <td>0.0</td>\n",
              "      <td>0.0</td>\n",
              "      <td>0.0</td>\n",
              "      <td>0.0</td>\n",
              "      <td>0.0</td>\n",
              "      <td>0.0</td>\n",
              "      <td>0.0</td>\n",
              "      <td>0.0</td>\n",
              "      <td>0.0</td>\n",
              "      <td>negativo</td>\n",
              "    </tr>\n",
              "    <tr>\n",
              "      <th>3142</th>\n",
              "      <td>0.0</td>\n",
              "      <td>0.0</td>\n",
              "      <td>0.0</td>\n",
              "      <td>0.0</td>\n",
              "      <td>0.0</td>\n",
              "      <td>0.0</td>\n",
              "      <td>0.0</td>\n",
              "      <td>0.0</td>\n",
              "      <td>0.0</td>\n",
              "      <td>0.0</td>\n",
              "      <td>...</td>\n",
              "      <td>0.0</td>\n",
              "      <td>0.0</td>\n",
              "      <td>0.0</td>\n",
              "      <td>0.0</td>\n",
              "      <td>0.0</td>\n",
              "      <td>0.0</td>\n",
              "      <td>0.0</td>\n",
              "      <td>0.0</td>\n",
              "      <td>0.0</td>\n",
              "      <td>negativo</td>\n",
              "    </tr>\n",
              "    <tr>\n",
              "      <th>3235</th>\n",
              "      <td>0.0</td>\n",
              "      <td>0.0</td>\n",
              "      <td>0.0</td>\n",
              "      <td>0.0</td>\n",
              "      <td>0.0</td>\n",
              "      <td>0.0</td>\n",
              "      <td>0.0</td>\n",
              "      <td>0.0</td>\n",
              "      <td>0.0</td>\n",
              "      <td>0.0</td>\n",
              "      <td>...</td>\n",
              "      <td>0.0</td>\n",
              "      <td>0.0</td>\n",
              "      <td>0.0</td>\n",
              "      <td>0.0</td>\n",
              "      <td>0.0</td>\n",
              "      <td>0.0</td>\n",
              "      <td>0.0</td>\n",
              "      <td>0.0</td>\n",
              "      <td>0.0</td>\n",
              "      <td>negativo</td>\n",
              "    </tr>\n",
              "    <tr>\n",
              "      <th>3271</th>\n",
              "      <td>0.0</td>\n",
              "      <td>0.0</td>\n",
              "      <td>0.0</td>\n",
              "      <td>0.0</td>\n",
              "      <td>0.0</td>\n",
              "      <td>0.0</td>\n",
              "      <td>0.0</td>\n",
              "      <td>0.0</td>\n",
              "      <td>0.0</td>\n",
              "      <td>0.0</td>\n",
              "      <td>...</td>\n",
              "      <td>0.0</td>\n",
              "      <td>0.0</td>\n",
              "      <td>0.0</td>\n",
              "      <td>0.0</td>\n",
              "      <td>0.0</td>\n",
              "      <td>0.0</td>\n",
              "      <td>0.0</td>\n",
              "      <td>0.0</td>\n",
              "      <td>0.0</td>\n",
              "      <td>negativo</td>\n",
              "    </tr>\n",
              "    <tr>\n",
              "      <th>3403</th>\n",
              "      <td>0.0</td>\n",
              "      <td>0.0</td>\n",
              "      <td>0.0</td>\n",
              "      <td>0.0</td>\n",
              "      <td>0.0</td>\n",
              "      <td>0.0</td>\n",
              "      <td>0.0</td>\n",
              "      <td>0.0</td>\n",
              "      <td>0.0</td>\n",
              "      <td>0.0</td>\n",
              "      <td>...</td>\n",
              "      <td>0.0</td>\n",
              "      <td>0.0</td>\n",
              "      <td>0.0</td>\n",
              "      <td>0.0</td>\n",
              "      <td>0.0</td>\n",
              "      <td>0.0</td>\n",
              "      <td>0.0</td>\n",
              "      <td>0.0</td>\n",
              "      <td>0.0</td>\n",
              "      <td>negativo</td>\n",
              "    </tr>\n",
              "  </tbody>\n",
              "</table>\n",
              "<p>3536 rows × 1000 columns</p>\n",
              "</div>\n",
              "      <button class=\"colab-df-convert\" onclick=\"convertToInteractive('df-78aacbc0-1a8e-4e0d-ae94-e0ee568a632a')\"\n",
              "              title=\"Convert this dataframe to an interactive table.\"\n",
              "              style=\"display:none;\">\n",
              "        \n",
              "  <svg xmlns=\"http://www.w3.org/2000/svg\" height=\"24px\"viewBox=\"0 0 24 24\"\n",
              "       width=\"24px\">\n",
              "    <path d=\"M0 0h24v24H0V0z\" fill=\"none\"/>\n",
              "    <path d=\"M18.56 5.44l.94 2.06.94-2.06 2.06-.94-2.06-.94-.94-2.06-.94 2.06-2.06.94zm-11 1L8.5 8.5l.94-2.06 2.06-.94-2.06-.94L8.5 2.5l-.94 2.06-2.06.94zm10 10l.94 2.06.94-2.06 2.06-.94-2.06-.94-.94-2.06-.94 2.06-2.06.94z\"/><path d=\"M17.41 7.96l-1.37-1.37c-.4-.4-.92-.59-1.43-.59-.52 0-1.04.2-1.43.59L10.3 9.45l-7.72 7.72c-.78.78-.78 2.05 0 2.83L4 21.41c.39.39.9.59 1.41.59.51 0 1.02-.2 1.41-.59l7.78-7.78 2.81-2.81c.8-.78.8-2.07 0-2.86zM5.41 20L4 18.59l7.72-7.72 1.47 1.35L5.41 20z\"/>\n",
              "  </svg>\n",
              "      </button>\n",
              "      \n",
              "  <style>\n",
              "    .colab-df-container {\n",
              "      display:flex;\n",
              "      flex-wrap:wrap;\n",
              "      gap: 12px;\n",
              "    }\n",
              "\n",
              "    .colab-df-convert {\n",
              "      background-color: #E8F0FE;\n",
              "      border: none;\n",
              "      border-radius: 50%;\n",
              "      cursor: pointer;\n",
              "      display: none;\n",
              "      fill: #1967D2;\n",
              "      height: 32px;\n",
              "      padding: 0 0 0 0;\n",
              "      width: 32px;\n",
              "    }\n",
              "\n",
              "    .colab-df-convert:hover {\n",
              "      background-color: #E2EBFA;\n",
              "      box-shadow: 0px 1px 2px rgba(60, 64, 67, 0.3), 0px 1px 3px 1px rgba(60, 64, 67, 0.15);\n",
              "      fill: #174EA6;\n",
              "    }\n",
              "\n",
              "    [theme=dark] .colab-df-convert {\n",
              "      background-color: #3B4455;\n",
              "      fill: #D2E3FC;\n",
              "    }\n",
              "\n",
              "    [theme=dark] .colab-df-convert:hover {\n",
              "      background-color: #434B5C;\n",
              "      box-shadow: 0px 1px 3px 1px rgba(0, 0, 0, 0.15);\n",
              "      filter: drop-shadow(0px 1px 2px rgba(0, 0, 0, 0.3));\n",
              "      fill: #FFFFFF;\n",
              "    }\n",
              "  </style>\n",
              "\n",
              "      <script>\n",
              "        const buttonEl =\n",
              "          document.querySelector('#df-78aacbc0-1a8e-4e0d-ae94-e0ee568a632a button.colab-df-convert');\n",
              "        buttonEl.style.display =\n",
              "          google.colab.kernel.accessAllowed ? 'block' : 'none';\n",
              "\n",
              "        async function convertToInteractive(key) {\n",
              "          const element = document.querySelector('#df-78aacbc0-1a8e-4e0d-ae94-e0ee568a632a');\n",
              "          const dataTable =\n",
              "            await google.colab.kernel.invokeFunction('convertToInteractive',\n",
              "                                                     [key], {});\n",
              "          if (!dataTable) return;\n",
              "\n",
              "          const docLinkHtml = 'Like what you see? Visit the ' +\n",
              "            '<a target=\"_blank\" href=https://colab.research.google.com/notebooks/data_table.ipynb>data table notebook</a>'\n",
              "            + ' to learn more about interactive tables.';\n",
              "          element.innerHTML = '';\n",
              "          dataTable['output_type'] = 'display_data';\n",
              "          await google.colab.output.renderOutput(dataTable, element);\n",
              "          const docLink = document.createElement('div');\n",
              "          docLink.innerHTML = docLinkHtml;\n",
              "          element.appendChild(docLink);\n",
              "        }\n",
              "      </script>\n",
              "    </div>\n",
              "  </div>\n",
              "  "
            ]
          },
          "metadata": {},
          "execution_count": 41
        }
      ]
    },
    {
      "cell_type": "code",
      "source": [
        "from google.colab import files\n",
        "df_final.to_csv('tf_rotulado2.csv',sep=\";\")\n",
        "\n",
        "files.download('tf_rotulado2.csv')\n"
      ],
      "metadata": {
        "colab": {
          "base_uri": "https://localhost:8080/",
          "height": 34
        },
        "id": "GGGAfZjYkNei",
        "outputId": "802d49c6-3413-4189-95ea-431d53d4119c"
      },
      "id": "GGGAfZjYkNei",
      "execution_count": null,
      "outputs": [
        {
          "output_type": "display_data",
          "data": {
            "text/plain": [
              "<IPython.core.display.Javascript object>"
            ],
            "application/javascript": [
              "\n",
              "    async function download(id, filename, size) {\n",
              "      if (!google.colab.kernel.accessAllowed) {\n",
              "        return;\n",
              "      }\n",
              "      const div = document.createElement('div');\n",
              "      const label = document.createElement('label');\n",
              "      label.textContent = `Downloading \"${filename}\": `;\n",
              "      div.appendChild(label);\n",
              "      const progress = document.createElement('progress');\n",
              "      progress.max = size;\n",
              "      div.appendChild(progress);\n",
              "      document.body.appendChild(div);\n",
              "\n",
              "      const buffers = [];\n",
              "      let downloaded = 0;\n",
              "\n",
              "      const channel = await google.colab.kernel.comms.open(id);\n",
              "      // Send a message to notify the kernel that we're ready.\n",
              "      channel.send({})\n",
              "\n",
              "      for await (const message of channel.messages) {\n",
              "        // Send a message to notify the kernel that we're ready.\n",
              "        channel.send({})\n",
              "        if (message.buffers) {\n",
              "          for (const buffer of message.buffers) {\n",
              "            buffers.push(buffer);\n",
              "            downloaded += buffer.byteLength;\n",
              "            progress.value = downloaded;\n",
              "          }\n",
              "        }\n",
              "      }\n",
              "      const blob = new Blob(buffers, {type: 'application/binary'});\n",
              "      const a = document.createElement('a');\n",
              "      a.href = window.URL.createObjectURL(blob);\n",
              "      a.download = filename;\n",
              "      div.appendChild(a);\n",
              "      a.click();\n",
              "      div.remove();\n",
              "    }\n",
              "  "
            ]
          },
          "metadata": {}
        },
        {
          "output_type": "display_data",
          "data": {
            "text/plain": [
              "<IPython.core.display.Javascript object>"
            ],
            "application/javascript": [
              "download(\"download_02d77421-e2f9-4a0f-8c96-333df3e8e19d\", \"tf_rotulado2.csv\", 241246725)"
            ]
          },
          "metadata": {}
        }
      ]
    },
    {
      "cell_type": "code",
      "source": [
        "linha = int(input(\"Insira o numero da linha: \"))\n",
        "\n",
        "df_tw3_ajust2[linha:linha+1]"
      ],
      "metadata": {
        "id": "CjBLwW71gimK",
        "colab": {
          "base_uri": "https://localhost:8080/",
          "height": 163
        },
        "outputId": "5f8f9106-9d85-454f-b3b0-e333bd1cccd2"
      },
      "id": "CjBLwW71gimK",
      "execution_count": null,
      "outputs": [
        {
          "name": "stdout",
          "output_type": "stream",
          "text": [
            "Insira o numero da linha: 33\n"
          ]
        },
        {
          "output_type": "execute_result",
          "data": {
            "text/plain": [
              "                                               Tweets  tamanho\n",
              "33  Acho que final de mês é dia de manda o papo na...       31"
            ],
            "text/html": [
              "\n",
              "  <div id=\"df-76460db6-7b47-4edf-84a7-5d7ff85ba1ce\">\n",
              "    <div class=\"colab-df-container\">\n",
              "      <div>\n",
              "<style scoped>\n",
              "    .dataframe tbody tr th:only-of-type {\n",
              "        vertical-align: middle;\n",
              "    }\n",
              "\n",
              "    .dataframe tbody tr th {\n",
              "        vertical-align: top;\n",
              "    }\n",
              "\n",
              "    .dataframe thead th {\n",
              "        text-align: right;\n",
              "    }\n",
              "</style>\n",
              "<table border=\"1\" class=\"dataframe\">\n",
              "  <thead>\n",
              "    <tr style=\"text-align: right;\">\n",
              "      <th></th>\n",
              "      <th>Tweets</th>\n",
              "      <th>tamanho</th>\n",
              "    </tr>\n",
              "  </thead>\n",
              "  <tbody>\n",
              "    <tr>\n",
              "      <th>33</th>\n",
              "      <td>Acho que final de mês é dia de manda o papo na...</td>\n",
              "      <td>31</td>\n",
              "    </tr>\n",
              "  </tbody>\n",
              "</table>\n",
              "</div>\n",
              "      <button class=\"colab-df-convert\" onclick=\"convertToInteractive('df-76460db6-7b47-4edf-84a7-5d7ff85ba1ce')\"\n",
              "              title=\"Convert this dataframe to an interactive table.\"\n",
              "              style=\"display:none;\">\n",
              "        \n",
              "  <svg xmlns=\"http://www.w3.org/2000/svg\" height=\"24px\"viewBox=\"0 0 24 24\"\n",
              "       width=\"24px\">\n",
              "    <path d=\"M0 0h24v24H0V0z\" fill=\"none\"/>\n",
              "    <path d=\"M18.56 5.44l.94 2.06.94-2.06 2.06-.94-2.06-.94-.94-2.06-.94 2.06-2.06.94zm-11 1L8.5 8.5l.94-2.06 2.06-.94-2.06-.94L8.5 2.5l-.94 2.06-2.06.94zm10 10l.94 2.06.94-2.06 2.06-.94-2.06-.94-.94-2.06-.94 2.06-2.06.94z\"/><path d=\"M17.41 7.96l-1.37-1.37c-.4-.4-.92-.59-1.43-.59-.52 0-1.04.2-1.43.59L10.3 9.45l-7.72 7.72c-.78.78-.78 2.05 0 2.83L4 21.41c.39.39.9.59 1.41.59.51 0 1.02-.2 1.41-.59l7.78-7.78 2.81-2.81c.8-.78.8-2.07 0-2.86zM5.41 20L4 18.59l7.72-7.72 1.47 1.35L5.41 20z\"/>\n",
              "  </svg>\n",
              "      </button>\n",
              "      \n",
              "  <style>\n",
              "    .colab-df-container {\n",
              "      display:flex;\n",
              "      flex-wrap:wrap;\n",
              "      gap: 12px;\n",
              "    }\n",
              "\n",
              "    .colab-df-convert {\n",
              "      background-color: #E8F0FE;\n",
              "      border: none;\n",
              "      border-radius: 50%;\n",
              "      cursor: pointer;\n",
              "      display: none;\n",
              "      fill: #1967D2;\n",
              "      height: 32px;\n",
              "      padding: 0 0 0 0;\n",
              "      width: 32px;\n",
              "    }\n",
              "\n",
              "    .colab-df-convert:hover {\n",
              "      background-color: #E2EBFA;\n",
              "      box-shadow: 0px 1px 2px rgba(60, 64, 67, 0.3), 0px 1px 3px 1px rgba(60, 64, 67, 0.15);\n",
              "      fill: #174EA6;\n",
              "    }\n",
              "\n",
              "    [theme=dark] .colab-df-convert {\n",
              "      background-color: #3B4455;\n",
              "      fill: #D2E3FC;\n",
              "    }\n",
              "\n",
              "    [theme=dark] .colab-df-convert:hover {\n",
              "      background-color: #434B5C;\n",
              "      box-shadow: 0px 1px 3px 1px rgba(0, 0, 0, 0.15);\n",
              "      filter: drop-shadow(0px 1px 2px rgba(0, 0, 0, 0.3));\n",
              "      fill: #FFFFFF;\n",
              "    }\n",
              "  </style>\n",
              "\n",
              "      <script>\n",
              "        const buttonEl =\n",
              "          document.querySelector('#df-76460db6-7b47-4edf-84a7-5d7ff85ba1ce button.colab-df-convert');\n",
              "        buttonEl.style.display =\n",
              "          google.colab.kernel.accessAllowed ? 'block' : 'none';\n",
              "\n",
              "        async function convertToInteractive(key) {\n",
              "          const element = document.querySelector('#df-76460db6-7b47-4edf-84a7-5d7ff85ba1ce');\n",
              "          const dataTable =\n",
              "            await google.colab.kernel.invokeFunction('convertToInteractive',\n",
              "                                                     [key], {});\n",
              "          if (!dataTable) return;\n",
              "\n",
              "          const docLinkHtml = 'Like what you see? Visit the ' +\n",
              "            '<a target=\"_blank\" href=https://colab.research.google.com/notebooks/data_table.ipynb>data table notebook</a>'\n",
              "            + ' to learn more about interactive tables.';\n",
              "          element.innerHTML = '';\n",
              "          dataTable['output_type'] = 'display_data';\n",
              "          await google.colab.output.renderOutput(dataTable, element);\n",
              "          const docLink = document.createElement('div');\n",
              "          docLink.innerHTML = docLinkHtml;\n",
              "          element.appendChild(docLink);\n",
              "        }\n",
              "      </script>\n",
              "    </div>\n",
              "  </div>\n",
              "  "
            ]
          },
          "metadata": {},
          "execution_count": 186
        }
      ]
    }
  ],
  "metadata": {
    "kernelspec": {
      "display_name": "Python 3 (ipykernel)",
      "language": "python",
      "name": "python3"
    },
    "language_info": {
      "codemirror_mode": {
        "name": "ipython",
        "version": 3
      },
      "file_extension": ".py",
      "mimetype": "text/x-python",
      "name": "python",
      "nbconvert_exporter": "python",
      "pygments_lexer": "ipython3",
      "version": "3.8.10"
    },
    "colab": {
      "provenance": [],
      "collapsed_sections": []
    }
  },
  "nbformat": 4,
  "nbformat_minor": 5
}